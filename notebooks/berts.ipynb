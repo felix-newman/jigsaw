{
 "cells": [
  {
   "cell_type": "code",
   "execution_count": 1,
   "id": "08b49ac9",
   "metadata": {},
   "outputs": [],
   "source": [
    "%load_ext autoreload\n",
    "%autoreload 2\n",
    "\n",
    "import pandas as pd\n",
    "from pathlib import Path\n",
    "\n",
    "from jigsaw.settings import DATA_DIR, MODEL_DIR\n",
    "from transformers import AutoTokenizer, AutoModelForSequenceClassification, Trainer, TrainingArguments\n",
    "from sklearn.metrics import accuracy_score, roc_auc_score, confusion_matrix\n",
    "import numpy as np\n",
    "import torch\n",
    "from torch.utils.data import DataLoader\n",
    "\n"
   ]
  },
  {
   "cell_type": "code",
   "execution_count": 2,
   "id": "3cb7fa55",
   "metadata": {},
   "outputs": [
    {
     "data": {
      "text/html": [
       "<div>\n",
       "<style scoped>\n",
       "    .dataframe tbody tr th:only-of-type {\n",
       "        vertical-align: middle;\n",
       "    }\n",
       "\n",
       "    .dataframe tbody tr th {\n",
       "        vertical-align: top;\n",
       "    }\n",
       "\n",
       "    .dataframe thead th {\n",
       "        text-align: right;\n",
       "    }\n",
       "</style>\n",
       "<table border=\"1\" class=\"dataframe\">\n",
       "  <thead>\n",
       "    <tr style=\"text-align: right;\">\n",
       "      <th></th>\n",
       "      <th>row_id</th>\n",
       "      <th>body</th>\n",
       "      <th>rule</th>\n",
       "      <th>subreddit</th>\n",
       "      <th>positive_example_1</th>\n",
       "      <th>positive_example_2</th>\n",
       "      <th>negative_example_1</th>\n",
       "      <th>negative_example_2</th>\n",
       "      <th>rule_violation</th>\n",
       "    </tr>\n",
       "  </thead>\n",
       "  <tbody>\n",
       "    <tr>\n",
       "      <th>0</th>\n",
       "      <td>0</td>\n",
       "      <td>Banks don't want you to know this! Click here ...</td>\n",
       "      <td>No Advertising: Spam, referral links, unsolici...</td>\n",
       "      <td>Futurology</td>\n",
       "      <td>If you could tell your younger self something ...</td>\n",
       "      <td>hunt for lady for jack off in neighbourhood ht...</td>\n",
       "      <td>Watch Golden Globe Awards 2017 Live Online in ...</td>\n",
       "      <td>DOUBLE CEE x BANDS EPPS - \"BIRDS\"\\n\\nDOWNLOAD/...</td>\n",
       "      <td>0</td>\n",
       "    </tr>\n",
       "    <tr>\n",
       "      <th>1</th>\n",
       "      <td>1</td>\n",
       "      <td>SD Stream [ ENG Link 1] (http://www.sportsstre...</td>\n",
       "      <td>No Advertising: Spam, referral links, unsolici...</td>\n",
       "      <td>soccerstreams</td>\n",
       "      <td>[I wanna kiss you all over! Stunning!](http://...</td>\n",
       "      <td>LOLGA.COM is One of the First Professional Onl...</td>\n",
       "      <td>#Rapper \\n🚨Straight Outta Cross Keys SC 🚨YouTu...</td>\n",
       "      <td>[15 Amazing Hidden Features Of Google Search Y...</td>\n",
       "      <td>0</td>\n",
       "    </tr>\n",
       "    <tr>\n",
       "      <th>2</th>\n",
       "      <td>2</td>\n",
       "      <td>Lol. Try appealing the ban and say you won't d...</td>\n",
       "      <td>No legal advice: Do not offer or request legal...</td>\n",
       "      <td>pcmasterrace</td>\n",
       "      <td>Don't break up with him or call the cops.  If ...</td>\n",
       "      <td>It'll be dismissed: https://en.wikipedia.org/w...</td>\n",
       "      <td>Where is there a site that still works where y...</td>\n",
       "      <td>Because this statement of his is true. It isn'...</td>\n",
       "      <td>1</td>\n",
       "    </tr>\n",
       "    <tr>\n",
       "      <th>3</th>\n",
       "      <td>3</td>\n",
       "      <td>she will come your home open her legs with  an...</td>\n",
       "      <td>No Advertising: Spam, referral links, unsolici...</td>\n",
       "      <td>sex</td>\n",
       "      <td>Selling Tyrande codes for 3€ to paypal. PM. \\n...</td>\n",
       "      <td>tight pussy watch for your cock get her at thi...</td>\n",
       "      <td>NSFW(obviously) http://spankbang.com/iy3u/vide...</td>\n",
       "      <td>Good News ::Download WhatsApp 2.16.230 APK for...</td>\n",
       "      <td>1</td>\n",
       "    </tr>\n",
       "    <tr>\n",
       "      <th>4</th>\n",
       "      <td>4</td>\n",
       "      <td>code free tyrande ---&gt;&gt;&gt; [Imgur](http://i.imgu...</td>\n",
       "      <td>No Advertising: Spam, referral links, unsolici...</td>\n",
       "      <td>hearthstone</td>\n",
       "      <td>wow!! amazing reminds me of the old days.Well...</td>\n",
       "      <td>seek for lady for sex in around http://p77.pl/...</td>\n",
       "      <td>must be watch movie https://sites.google.com/s...</td>\n",
       "      <td>We're streaming Pokemon Veitnamese Crystal RIG...</td>\n",
       "      <td>1</td>\n",
       "    </tr>\n",
       "  </tbody>\n",
       "</table>\n",
       "</div>"
      ],
      "text/plain": [
       "   row_id                                               body  \\\n",
       "0       0  Banks don't want you to know this! Click here ...   \n",
       "1       1  SD Stream [ ENG Link 1] (http://www.sportsstre...   \n",
       "2       2  Lol. Try appealing the ban and say you won't d...   \n",
       "3       3  she will come your home open her legs with  an...   \n",
       "4       4  code free tyrande --->>> [Imgur](http://i.imgu...   \n",
       "\n",
       "                                                rule      subreddit  \\\n",
       "0  No Advertising: Spam, referral links, unsolici...     Futurology   \n",
       "1  No Advertising: Spam, referral links, unsolici...  soccerstreams   \n",
       "2  No legal advice: Do not offer or request legal...   pcmasterrace   \n",
       "3  No Advertising: Spam, referral links, unsolici...            sex   \n",
       "4  No Advertising: Spam, referral links, unsolici...    hearthstone   \n",
       "\n",
       "                                  positive_example_1  \\\n",
       "0  If you could tell your younger self something ...   \n",
       "1  [I wanna kiss you all over! Stunning!](http://...   \n",
       "2  Don't break up with him or call the cops.  If ...   \n",
       "3  Selling Tyrande codes for 3€ to paypal. PM. \\n...   \n",
       "4   wow!! amazing reminds me of the old days.Well...   \n",
       "\n",
       "                                  positive_example_2  \\\n",
       "0  hunt for lady for jack off in neighbourhood ht...   \n",
       "1  LOLGA.COM is One of the First Professional Onl...   \n",
       "2  It'll be dismissed: https://en.wikipedia.org/w...   \n",
       "3  tight pussy watch for your cock get her at thi...   \n",
       "4  seek for lady for sex in around http://p77.pl/...   \n",
       "\n",
       "                                  negative_example_1  \\\n",
       "0  Watch Golden Globe Awards 2017 Live Online in ...   \n",
       "1  #Rapper \\n🚨Straight Outta Cross Keys SC 🚨YouTu...   \n",
       "2  Where is there a site that still works where y...   \n",
       "3  NSFW(obviously) http://spankbang.com/iy3u/vide...   \n",
       "4  must be watch movie https://sites.google.com/s...   \n",
       "\n",
       "                                  negative_example_2  rule_violation  \n",
       "0  DOUBLE CEE x BANDS EPPS - \"BIRDS\"\\n\\nDOWNLOAD/...               0  \n",
       "1  [15 Amazing Hidden Features Of Google Search Y...               0  \n",
       "2  Because this statement of his is true. It isn'...               1  \n",
       "3  Good News ::Download WhatsApp 2.16.230 APK for...               1  \n",
       "4  We're streaming Pokemon Veitnamese Crystal RIG...               1  "
      ]
     },
     "execution_count": 2,
     "metadata": {},
     "output_type": "execute_result"
    }
   ],
   "source": [
    "from jigsaw.settings import TRAIN_CSV\n",
    "\n",
    "df = pd.read_csv(TRAIN_CSV)\n",
    "df.head()"
   ]
  },
  {
   "cell_type": "code",
   "execution_count": 3,
   "id": "281e7f1d",
   "metadata": {},
   "outputs": [],
   "source": [
    "from tqdm.notebook import tqdm\n",
    "from jigsaw.settings import TRAIN_CSV\n",
    "\n",
    "def build_samples(df):\n",
    "\n",
    "    samples = []\n",
    "\n",
    "    for row in tqdm(df.itertuples()):\n",
    "        row_id = row.row_id\n",
    "        rule = row.rule\n",
    "        subreddit = row.subreddit\n",
    "        base_label = int(row.rule_violation)\n",
    "\n",
    "        for comment_type in [\n",
    "            \"body\",\n",
    "            \"positive_example_1\",\n",
    "            \"positive_example_2\",\n",
    "            \"negative_example_1\",\n",
    "            \"negative_example_2\",\n",
    "        ]:\n",
    "            # Correct label assignment by source field\n",
    "            if comment_type.startswith(\"positive\"):\n",
    "                label = 1\n",
    "            elif comment_type.startswith(\"negative\"):\n",
    "                label = 0\n",
    "            else:\n",
    "                label = base_label\n",
    "\n",
    "            samples.append(\n",
    "                {\n",
    "                    \"row_id\": row_id,\n",
    "                    \"comment\": row.__getattribute__(comment_type),\n",
    "                    \"subreddit\": subreddit,\n",
    "                    \"rule\": rule,\n",
    "                    \"rule_violation\": label,\n",
    "                }\n",
    "            )\n",
    "\n",
    "    new_df = pd.DataFrame(samples)\n",
    "    new_df.drop_duplicates(subset=[\"comment\"], inplace=True)\n",
    "    return new_df"
   ]
  },
  {
   "cell_type": "code",
   "execution_count": 4,
   "id": "fc0c210e",
   "metadata": {},
   "outputs": [
    {
     "name": "stdout",
     "output_type": "stream",
     "text": [
      "{0: 'No Advertising: Spam, referral links, unsolicited advertising, and promotional content are not allowed.', 1: 'No legal advice: Do not offer or request legal advice.'}\n"
     ]
    }
   ],
   "source": [
    "rules = {i: rule for i, rule in enumerate(sorted(df[\"rule\"].unique()))}\n",
    "idx_by_rule = {rule: idx for idx, rule in rules.items()}\n",
    "print(rules)"
   ]
  },
  {
   "cell_type": "code",
   "execution_count": 5,
   "id": "5cfc479b",
   "metadata": {},
   "outputs": [],
   "source": [
    "spam_df = df[df[\"rule\"] == rules[0]]\n",
    "legal_df = df[df[\"rule\"] == rules[1]]"
   ]
  },
  {
   "cell_type": "code",
   "execution_count": 6,
   "id": "d9b47538",
   "metadata": {},
   "outputs": [
    {
     "data": {
      "application/vnd.jupyter.widget-view+json": {
       "model_id": "bed050b356ba4e28ac0881d7639a9bac",
       "version_major": 2,
       "version_minor": 0
      },
      "text/plain": [
       "0it [00:00, ?it/s]"
      ]
     },
     "metadata": {},
     "output_type": "display_data"
    },
    {
     "data": {
      "text/plain": [
       "862"
      ]
     },
     "execution_count": 6,
     "metadata": {},
     "output_type": "execute_result"
    }
   ],
   "source": [
    "spam_df = build_samples(spam_df)\n",
    "len(spam_df)"
   ]
  },
  {
   "cell_type": "code",
   "execution_count": 7,
   "id": "56cc0184",
   "metadata": {},
   "outputs": [
    {
     "data": {
      "application/vnd.jupyter.widget-view+json": {
       "model_id": "bdcbc9252eee456c9055eebd63d9627b",
       "version_major": 2,
       "version_minor": 0
      },
      "text/plain": [
       "0it [00:00, ?it/s]"
      ]
     },
     "metadata": {},
     "output_type": "display_data"
    },
    {
     "data": {
      "text/plain": [
       "1013"
      ]
     },
     "execution_count": 7,
     "metadata": {},
     "output_type": "execute_result"
    }
   ],
   "source": [
    "legal_df = build_samples(legal_df)\n",
    "len(legal_df)\n"
   ]
  },
  {
   "cell_type": "code",
   "execution_count": 8,
   "id": "5e4b261b",
   "metadata": {},
   "outputs": [
    {
     "data": {
      "text/html": [
       "<div>\n",
       "<style scoped>\n",
       "    .dataframe tbody tr th:only-of-type {\n",
       "        vertical-align: middle;\n",
       "    }\n",
       "\n",
       "    .dataframe tbody tr th {\n",
       "        vertical-align: top;\n",
       "    }\n",
       "\n",
       "    .dataframe thead th {\n",
       "        text-align: right;\n",
       "    }\n",
       "</style>\n",
       "<table border=\"1\" class=\"dataframe\">\n",
       "  <thead>\n",
       "    <tr style=\"text-align: right;\">\n",
       "      <th></th>\n",
       "      <th>row_id</th>\n",
       "      <th>comment</th>\n",
       "      <th>subreddit</th>\n",
       "      <th>rule</th>\n",
       "      <th>rule_violation</th>\n",
       "    </tr>\n",
       "  </thead>\n",
       "  <tbody>\n",
       "    <tr>\n",
       "      <th>0</th>\n",
       "      <td>2</td>\n",
       "      <td>Lol. Try appealing the ban and say you won't d...</td>\n",
       "      <td>pcmasterrace</td>\n",
       "      <td>No legal advice: Do not offer or request legal...</td>\n",
       "      <td>1</td>\n",
       "    </tr>\n",
       "    <tr>\n",
       "      <th>1</th>\n",
       "      <td>2</td>\n",
       "      <td>Don't break up with him or call the cops.  If ...</td>\n",
       "      <td>pcmasterrace</td>\n",
       "      <td>No legal advice: Do not offer or request legal...</td>\n",
       "      <td>1</td>\n",
       "    </tr>\n",
       "    <tr>\n",
       "      <th>2</th>\n",
       "      <td>2</td>\n",
       "      <td>It'll be dismissed: https://en.wikipedia.org/w...</td>\n",
       "      <td>pcmasterrace</td>\n",
       "      <td>No legal advice: Do not offer or request legal...</td>\n",
       "      <td>1</td>\n",
       "    </tr>\n",
       "    <tr>\n",
       "      <th>3</th>\n",
       "      <td>2</td>\n",
       "      <td>Where is there a site that still works where y...</td>\n",
       "      <td>pcmasterrace</td>\n",
       "      <td>No legal advice: Do not offer or request legal...</td>\n",
       "      <td>0</td>\n",
       "    </tr>\n",
       "    <tr>\n",
       "      <th>4</th>\n",
       "      <td>2</td>\n",
       "      <td>Because this statement of his is true. It isn'...</td>\n",
       "      <td>pcmasterrace</td>\n",
       "      <td>No legal advice: Do not offer or request legal...</td>\n",
       "      <td>0</td>\n",
       "    </tr>\n",
       "  </tbody>\n",
       "</table>\n",
       "</div>"
      ],
      "text/plain": [
       "   row_id                                            comment     subreddit  \\\n",
       "0       2  Lol. Try appealing the ban and say you won't d...  pcmasterrace   \n",
       "1       2  Don't break up with him or call the cops.  If ...  pcmasterrace   \n",
       "2       2  It'll be dismissed: https://en.wikipedia.org/w...  pcmasterrace   \n",
       "3       2  Where is there a site that still works where y...  pcmasterrace   \n",
       "4       2  Because this statement of his is true. It isn'...  pcmasterrace   \n",
       "\n",
       "                                                rule  rule_violation  \n",
       "0  No legal advice: Do not offer or request legal...               1  \n",
       "1  No legal advice: Do not offer or request legal...               1  \n",
       "2  No legal advice: Do not offer or request legal...               1  \n",
       "3  No legal advice: Do not offer or request legal...               0  \n",
       "4  No legal advice: Do not offer or request legal...               0  "
      ]
     },
     "execution_count": 8,
     "metadata": {},
     "output_type": "execute_result"
    }
   ],
   "source": [
    "legal_df.head()"
   ]
  },
  {
   "cell_type": "code",
   "execution_count": 9,
   "id": "b36853e3",
   "metadata": {},
   "outputs": [],
   "source": [
    "import os\n",
    "import random\n",
    "\n",
    "def seed_everything(seed=42):\n",
    "    random.seed(seed)\n",
    "    os.environ['PYTHONHASHSEED'] = str(seed)\n",
    "    np.random.seed(seed)\n",
    "    torch.manual_seed(seed)\n",
    "    torch.cuda.manual_seed(seed)\n",
    "    torch.cuda.manual_seed_all(seed) \n",
    "    torch.backends.cudnn.deterministic = True\n",
    "    torch.backends.cudnn.benchmark = False"
   ]
  },
  {
   "cell_type": "code",
   "execution_count": 10,
   "id": "b5aef65d",
   "metadata": {},
   "outputs": [],
   "source": [
    "import re\n",
    "\n",
    "# Pre-compiled regex patterns\n",
    "URL_PATTERN = re.compile(r'https?://[^\\s/$.?#].[^\\s]*')\n",
    "DOMAIN_PATTERN = re.compile(r\"(?:https?://)?([a-z0-9\\-\\.]+)\\.[a-z]{2,}\")\n",
    "CLEAN_PATH_PART_PATTERN = re.compile(r\"\\.(html?|php|asp|jsp)$|#.*|\\?.*\")\n",
    "\n",
    "\n",
    "def url_to_semantics(text: str) -> str:\n",
    "    \"\"\"\n",
    "    Extracts semantic keywords from URLs found in a given text.\n",
    "    Returns a formatted string containing semantic features.\n",
    "    \"\"\"\n",
    "    if not isinstance(text, str):\n",
    "        return \"\"\n",
    "\n",
    "    urls = URL_PATTERN.findall(text)\n",
    "    if not urls:\n",
    "        return \"\" \n",
    "\n",
    "    all_semantics = []\n",
    "    seen_semantics = set()\n",
    "\n",
    "    for url in urls:\n",
    "        url_lower = url.lower()\n",
    "\n",
    "        # Extract domain parts\n",
    "        domain_match = DOMAIN_PATTERN.search(url_lower)\n",
    "        if domain_match:\n",
    "            full_domain = domain_match.group(1)\n",
    "            for part in full_domain.split('.'):\n",
    "                if part and part not in seen_semantics and len(part) > 3:\n",
    "                    all_semantics.append(f\"domain:{part}\")\n",
    "                    seen_semantics.add(part)\n",
    "\n",
    "        # Extract path parts\n",
    "        path = re.sub(r\"^(?:https?://)?[a-z0-9\\.-]+\\.[a-z]{2,}/?\", \"\", url_lower)\n",
    "        path_parts = [p for p in re.split(r'[/_.-]+', path) if p and p.isalnum()]\n",
    "        \n",
    "        for part in path_parts:\n",
    "            part_clean = CLEAN_PATH_PART_PATTERN.sub(\"\", part)\n",
    "            if part_clean and part_clean not in seen_semantics and len(part_clean) > 3:\n",
    "                all_semantics.append(f\"path:{part_clean}\")\n",
    "                seen_semantics.add(part_clean)\n",
    "\n",
    "    return f\"\\nURL Keywords: {' '.join(all_semantics)}\" if all_semantics else \"\""
   ]
  },
  {
   "cell_type": "code",
   "execution_count": 11,
   "id": "899f02a9",
   "metadata": {},
   "outputs": [],
   "source": [
    "from torch.optim import AdamW\n",
    "\n",
    "class CFG:\n",
    "    model_name_or_path = \"microsoft/deberta-v3-small\"\n",
    "    output_dir = MODEL_DIR / \"deberta-v3-small\"\n",
    "  \n",
    "    EPOCHS = 2\n",
    "    LEARNING_RATE = 1e-5  \n",
    "    \n",
    "    MAX_LENGTH = 512\n",
    "    BATCH_SIZE = 8\n",
    "\n",
    "class JigsawDataset(torch.utils.data.Dataset):\n",
    "    def __init__(self, encodings, labels=None):\n",
    "        self.encodings = encodings\n",
    "        self.labels = labels\n",
    "\n",
    "    def __getitem__(self, idx):\n",
    "        item = {key: torch.tensor(val[idx]) for key, val in self.encodings.items()}\n",
    "        if self.labels:\n",
    "            item['labels'] = torch.tensor(self.labels[idx])\n",
    "        return item\n",
    "\n",
    "    def __len__(self):\n",
    "        return len(self.encodings['input_ids'])\n",
    "\n",
    "def add_url_semantics_column(df):\n",
    "    return df['comment'].apply(lambda x: x + url_to_semantics(x))\n",
    "\n",
    "def build_input_text(df):\n",
    "    df['body_with_url'] = add_url_semantics_column(df)\n",
    "    return df['rule'] + \"[SEP]\" + df[\"subreddit\"] + \"[SEP]\" + df['body_with_url']\n",
    "\n",
    "def prepare_dataset(df, tokenizer, max_length, is_train=True):\n",
    "    encodings = tokenizer(\n",
    "        df['input_text'].tolist(),\n",
    "        truncation=True,\n",
    "        padding=True,\n",
    "        max_length=max_length\n",
    "    )\n",
    "    if is_train:\n",
    "        labels = df['rule_violation'].tolist()\n",
    "        return JigsawDataset(encodings, labels)\n",
    "    else:\n",
    "        return JigsawDataset(encodings)\n",
    "\n",
    "def train(train_df, seed=4):\n",
    "    seed_everything(seed)\n",
    "    print(f\"\\n🔸 Loading and preparing training data with seed={seed} ...\")\n",
    "    print(f\"Training dataset size: {len(train_df)}\")\n",
    "\n",
    "    \n",
    "    train_df['input_text'] = build_input_text(train_df)\n",
    "\n",
    "    tokenizer = AutoTokenizer.from_pretrained(CFG.model_name_or_path)\n",
    "    train_dataset = prepare_dataset(train_df, tokenizer, CFG.MAX_LENGTH, is_train=True)\n",
    "\n",
    "    model = AutoModelForSequenceClassification.from_pretrained(CFG.model_name_or_path, num_labels=2)\n",
    "\n",
    "    # Initialize classifier weights\n",
    "    # torch.nn.init.normal_(model.classifier.weight, mean=0.0, std=0.02)\n",
    "    # torch.nn.init.constant_(model.classifier.bias, 0.0)\n",
    "    \n",
    "    # # Create optimizer with differential learning rates\n",
    "    # classifier_params = []\n",
    "    # other_params = []\n",
    "    \n",
    "    # for name, param in model.named_parameters():\n",
    "    #     if 'classifier' in name:\n",
    "    #         classifier_params.append(param)\n",
    "    #     else:\n",
    "    #         other_params.append(param)\n",
    "    \n",
    "    # optimizer_grouped_parameters = [\n",
    "    #     {'params': other_params, 'lr': 5e-6},\n",
    "    #     {'params': classifier_params, 'lr': CFG.LEARNING_RATE}\n",
    "    # ]\n",
    "    \n",
    "    \n",
    "    # optimizer = AdamW(optimizer_grouped_parameters)\n",
    "    \n",
    "    training_args = TrainingArguments(\n",
    "        output_dir=CFG.output_dir,\n",
    "        num_train_epochs=CFG.EPOCHS,\n",
    "        learning_rate=CFG.LEARNING_RATE,\n",
    "        per_device_train_batch_size=CFG.BATCH_SIZE,\n",
    "        warmup_ratio=0.15,\n",
    "        weight_decay=0.01,\n",
    "        report_to=\"wandb\",\n",
    "        save_strategy=\"no\",\n",
    "        lr_scheduler_type=\"cosine\",\n",
    "        max_grad_norm=1.0,\n",
    "        logging_steps=10,\n",
    "    )\n",
    "\n",
    "    trainer = Trainer(\n",
    "        model=model,\n",
    "        args=training_args,\n",
    "        train_dataset=train_dataset,\n",
    "        # optimizers=(optimizer, None),\n",
    "    )\n",
    "\n",
    "    print(\"🚀 Starting training...\")\n",
    "    trainer.train()\n",
    "    print(\"✅ Training complete.\")\n",
    "\n",
    "    return trainer, tokenizer"
   ]
  },
  {
   "cell_type": "code",
   "execution_count": 12,
   "id": "29c92d56",
   "metadata": {},
   "outputs": [
    {
     "data": {
      "text/html": [
       "<div>\n",
       "<style scoped>\n",
       "    .dataframe tbody tr th:only-of-type {\n",
       "        vertical-align: middle;\n",
       "    }\n",
       "\n",
       "    .dataframe tbody tr th {\n",
       "        vertical-align: top;\n",
       "    }\n",
       "\n",
       "    .dataframe thead th {\n",
       "        text-align: right;\n",
       "    }\n",
       "</style>\n",
       "<table border=\"1\" class=\"dataframe\">\n",
       "  <thead>\n",
       "    <tr style=\"text-align: right;\">\n",
       "      <th></th>\n",
       "      <th>row_id</th>\n",
       "      <th>comment</th>\n",
       "      <th>subreddit</th>\n",
       "      <th>rule</th>\n",
       "      <th>rule_violation</th>\n",
       "      <th>fold</th>\n",
       "    </tr>\n",
       "  </thead>\n",
       "  <tbody>\n",
       "    <tr>\n",
       "      <th>0</th>\n",
       "      <td>978</td>\n",
       "      <td>we do have a shop check it out here https://ww...</td>\n",
       "      <td>pokemon</td>\n",
       "      <td>No Advertising: Spam, referral links, unsolici...</td>\n",
       "      <td>1</td>\n",
       "      <td>0</td>\n",
       "    </tr>\n",
       "    <tr>\n",
       "      <th>1</th>\n",
       "      <td>585</td>\n",
       "      <td>Same shit happened to me man.  EXACT same thin...</td>\n",
       "      <td>AskReddit</td>\n",
       "      <td>No Advertising: Spam, referral links, unsolici...</td>\n",
       "      <td>0</td>\n",
       "      <td>1</td>\n",
       "    </tr>\n",
       "    <tr>\n",
       "      <th>2</th>\n",
       "      <td>59</td>\n",
       "      <td>If you invest your money in Queen Rubie's for-...</td>\n",
       "      <td>personalfinance</td>\n",
       "      <td>No Advertising: Spam, referral links, unsolici...</td>\n",
       "      <td>1</td>\n",
       "      <td>2</td>\n",
       "    </tr>\n",
       "    <tr>\n",
       "      <th>3</th>\n",
       "      <td>102</td>\n",
       "      <td>I found a web site that says to share a link t...</td>\n",
       "      <td>anime</td>\n",
       "      <td>No Advertising: Spam, referral links, unsolici...</td>\n",
       "      <td>1</td>\n",
       "      <td>3</td>\n",
       "    </tr>\n",
       "    <tr>\n",
       "      <th>4</th>\n",
       "      <td>242</td>\n",
       "      <td>This app tracks medals of all countries\\nhttps...</td>\n",
       "      <td>worldnews</td>\n",
       "      <td>No Advertising: Spam, referral links, unsolici...</td>\n",
       "      <td>0</td>\n",
       "      <td>4</td>\n",
       "    </tr>\n",
       "  </tbody>\n",
       "</table>\n",
       "</div>"
      ],
      "text/plain": [
       "   row_id                                            comment        subreddit  \\\n",
       "0     978  we do have a shop check it out here https://ww...          pokemon   \n",
       "1     585  Same shit happened to me man.  EXACT same thin...        AskReddit   \n",
       "2      59  If you invest your money in Queen Rubie's for-...  personalfinance   \n",
       "3     102  I found a web site that says to share a link t...            anime   \n",
       "4     242  This app tracks medals of all countries\\nhttps...        worldnews   \n",
       "\n",
       "                                                rule  rule_violation  fold  \n",
       "0  No Advertising: Spam, referral links, unsolici...               1     0  \n",
       "1  No Advertising: Spam, referral links, unsolici...               0     1  \n",
       "2  No Advertising: Spam, referral links, unsolici...               1     2  \n",
       "3  No Advertising: Spam, referral links, unsolici...               1     3  \n",
       "4  No Advertising: Spam, referral links, unsolici...               0     4  "
      ]
     },
     "execution_count": 12,
     "metadata": {},
     "output_type": "execute_result"
    }
   ],
   "source": [
    "def create_folds(df, n_folds=5, seed=42):\n",
    "    \"\"\"\n",
    "    Randomly split a dataframe into n folds.\n",
    "    \n",
    "    Args:\n",
    "        df: DataFrame to split\n",
    "        n_folds: Number of folds to create\n",
    "        seed: Random seed for reproducibility\n",
    "    \n",
    "    Returns:\n",
    "        DataFrame with added 'fold' column\n",
    "    \"\"\"\n",
    "    df = df.copy()\n",
    "    df = df.sample(frac=1, random_state=seed).reset_index(drop=True)\n",
    "    df['fold'] = df.index % n_folds\n",
    "    return df\n",
    "\n",
    "\n",
    "spam_df = create_folds(spam_df, n_folds=5, seed=42)\n",
    "spam_df.head()\n"
   ]
  },
  {
   "cell_type": "code",
   "execution_count": 13,
   "id": "8daaede9",
   "metadata": {},
   "outputs": [
    {
     "name": "stdout",
     "output_type": "stream",
     "text": [
      "\n",
      "🔸 Loading and preparing training data with seed=4 ...\n",
      "Training dataset size: 689\n"
     ]
    },
    {
     "name": "stderr",
     "output_type": "stream",
     "text": [
      "/tmp/ipykernel_278832/442685796.py:31: SettingWithCopyWarning: \n",
      "A value is trying to be set on a copy of a slice from a DataFrame.\n",
      "Try using .loc[row_indexer,col_indexer] = value instead\n",
      "\n",
      "See the caveats in the documentation: https://pandas.pydata.org/pandas-docs/stable/user_guide/indexing.html#returning-a-view-versus-a-copy\n",
      "  df['body_with_url'] = add_url_semantics_column(df)\n",
      "/tmp/ipykernel_278832/442685796.py:53: SettingWithCopyWarning: \n",
      "A value is trying to be set on a copy of a slice from a DataFrame.\n",
      "Try using .loc[row_indexer,col_indexer] = value instead\n",
      "\n",
      "See the caveats in the documentation: https://pandas.pydata.org/pandas-docs/stable/user_guide/indexing.html#returning-a-view-versus-a-copy\n",
      "  train_df['input_text'] = build_input_text(train_df)\n",
      "/home/felix/repos/jigsaw/.venv/lib/python3.13/site-packages/transformers/convert_slow_tokenizer.py:564: UserWarning: The sentencepiece tokenizer that you are converting to a fast tokenizer uses the byte fallback option which is not implemented in the fast tokenizers. In practice this means that the fast version of the tokenizer can produce unknown tokens whereas the sentencepiece version would have converted these unknown tokens into a sequence of byte tokens matching the original piece of text.\n",
      "  warnings.warn(\n",
      "Some weights of DebertaV2ForSequenceClassification were not initialized from the model checkpoint at microsoft/deberta-v3-small and are newly initialized: ['classifier.bias', 'classifier.weight', 'pooler.dense.bias', 'pooler.dense.weight']\n",
      "You should probably TRAIN this model on a down-stream task to be able to use it for predictions and inference.\n",
      "/home/felix/repos/jigsaw/.venv/lib/python3.13/site-packages/pydantic/_internal/_generate_schema.py:2249: UnsupportedFieldAttributeWarning: The 'repr' attribute with value False was provided to the `Field()` function, which has no effect in the context it was used. 'repr' is field-specific metadata, and can only be attached to a model field using `Annotated` metadata or by assignment. This may have happened because an `Annotated` type alias using the `type` statement was used, or if the `Field()` function was attached to a single member of a union type.\n",
      "  warnings.warn(\n",
      "/home/felix/repos/jigsaw/.venv/lib/python3.13/site-packages/pydantic/_internal/_generate_schema.py:2249: UnsupportedFieldAttributeWarning: The 'frozen' attribute with value True was provided to the `Field()` function, which has no effect in the context it was used. 'frozen' is field-specific metadata, and can only be attached to a model field using `Annotated` metadata or by assignment. This may have happened because an `Annotated` type alias using the `type` statement was used, or if the `Field()` function was attached to a single member of a union type.\n",
      "  warnings.warn(\n"
     ]
    },
    {
     "name": "stdout",
     "output_type": "stream",
     "text": [
      "🚀 Starting training...\n"
     ]
    },
    {
     "name": "stderr",
     "output_type": "stream",
     "text": [
      "\u001b[34m\u001b[1mwandb\u001b[0m: Currently logged in as: \u001b[33mfelix-newman\u001b[0m (\u001b[33mproject-vesuvius\u001b[0m) to \u001b[32mhttps://api.wandb.ai\u001b[0m. Use \u001b[1m`wandb login --relogin`\u001b[0m to force relogin\n"
     ]
    },
    {
     "data": {
      "text/html": [],
      "text/plain": [
       "<IPython.core.display.HTML object>"
      ]
     },
     "metadata": {},
     "output_type": "display_data"
    },
    {
     "data": {
      "text/html": [
       "Tracking run with wandb version 0.22.2"
      ],
      "text/plain": [
       "<IPython.core.display.HTML object>"
      ]
     },
     "metadata": {},
     "output_type": "display_data"
    },
    {
     "data": {
      "text/html": [
       "Run data is saved locally in <code>/home/felix/repos/jigsaw/notebooks/wandb/run-20251023_110913-xxy6fqd9</code>"
      ],
      "text/plain": [
       "<IPython.core.display.HTML object>"
      ]
     },
     "metadata": {},
     "output_type": "display_data"
    },
    {
     "data": {
      "text/html": [
       "Syncing run <strong><a href='https://wandb.ai/project-vesuvius/huggingface/runs/xxy6fqd9' target=\"_blank\">faithful-leaf-23</a></strong> to <a href='https://wandb.ai/project-vesuvius/huggingface' target=\"_blank\">Weights & Biases</a> (<a href='https://wandb.me/developer-guide' target=\"_blank\">docs</a>)<br>"
      ],
      "text/plain": [
       "<IPython.core.display.HTML object>"
      ]
     },
     "metadata": {},
     "output_type": "display_data"
    },
    {
     "data": {
      "text/html": [
       " View project at <a href='https://wandb.ai/project-vesuvius/huggingface' target=\"_blank\">https://wandb.ai/project-vesuvius/huggingface</a>"
      ],
      "text/plain": [
       "<IPython.core.display.HTML object>"
      ]
     },
     "metadata": {},
     "output_type": "display_data"
    },
    {
     "data": {
      "text/html": [
       " View run at <a href='https://wandb.ai/project-vesuvius/huggingface/runs/xxy6fqd9' target=\"_blank\">https://wandb.ai/project-vesuvius/huggingface/runs/xxy6fqd9</a>"
      ],
      "text/plain": [
       "<IPython.core.display.HTML object>"
      ]
     },
     "metadata": {},
     "output_type": "display_data"
    },
    {
     "data": {
      "text/html": [
       "\n",
       "    <div>\n",
       "      \n",
       "      <progress value='174' max='174' style='width:300px; height:20px; vertical-align: middle;'></progress>\n",
       "      [174/174 01:02, Epoch 2/2]\n",
       "    </div>\n",
       "    <table border=\"1\" class=\"dataframe\">\n",
       "  <thead>\n",
       " <tr style=\"text-align: left;\">\n",
       "      <th>Step</th>\n",
       "      <th>Training Loss</th>\n",
       "    </tr>\n",
       "  </thead>\n",
       "  <tbody>\n",
       "    <tr>\n",
       "      <td>10</td>\n",
       "      <td>0.733800</td>\n",
       "    </tr>\n",
       "    <tr>\n",
       "      <td>20</td>\n",
       "      <td>0.672200</td>\n",
       "    </tr>\n",
       "    <tr>\n",
       "      <td>30</td>\n",
       "      <td>0.716500</td>\n",
       "    </tr>\n",
       "    <tr>\n",
       "      <td>40</td>\n",
       "      <td>0.692500</td>\n",
       "    </tr>\n",
       "    <tr>\n",
       "      <td>50</td>\n",
       "      <td>0.655200</td>\n",
       "    </tr>\n",
       "    <tr>\n",
       "      <td>60</td>\n",
       "      <td>0.691400</td>\n",
       "    </tr>\n",
       "    <tr>\n",
       "      <td>70</td>\n",
       "      <td>0.734600</td>\n",
       "    </tr>\n",
       "    <tr>\n",
       "      <td>80</td>\n",
       "      <td>0.688000</td>\n",
       "    </tr>\n",
       "    <tr>\n",
       "      <td>90</td>\n",
       "      <td>0.688400</td>\n",
       "    </tr>\n",
       "    <tr>\n",
       "      <td>100</td>\n",
       "      <td>0.678600</td>\n",
       "    </tr>\n",
       "    <tr>\n",
       "      <td>110</td>\n",
       "      <td>0.699000</td>\n",
       "    </tr>\n",
       "    <tr>\n",
       "      <td>120</td>\n",
       "      <td>0.678600</td>\n",
       "    </tr>\n",
       "    <tr>\n",
       "      <td>130</td>\n",
       "      <td>0.649100</td>\n",
       "    </tr>\n",
       "    <tr>\n",
       "      <td>140</td>\n",
       "      <td>0.649200</td>\n",
       "    </tr>\n",
       "    <tr>\n",
       "      <td>150</td>\n",
       "      <td>0.635300</td>\n",
       "    </tr>\n",
       "    <tr>\n",
       "      <td>160</td>\n",
       "      <td>0.629300</td>\n",
       "    </tr>\n",
       "    <tr>\n",
       "      <td>170</td>\n",
       "      <td>0.630400</td>\n",
       "    </tr>\n",
       "  </tbody>\n",
       "</table><p>"
      ],
      "text/plain": [
       "<IPython.core.display.HTML object>"
      ]
     },
     "metadata": {},
     "output_type": "display_data"
    },
    {
     "name": "stdout",
     "output_type": "stream",
     "text": [
      "✅ Training complete.\n"
     ]
    }
   ],
   "source": [
    "eval_spam_df = spam_df[spam_df['fold'] == 0]\n",
    "train_spam_df = spam_df[spam_df['fold'] != 0]\n",
    "\n",
    "trainer, tokenizer = train(train_spam_df)"
   ]
  },
  {
   "cell_type": "code",
   "execution_count": 14,
   "id": "98d1dda2",
   "metadata": {},
   "outputs": [
    {
     "name": "stdout",
     "output_type": "stream",
     "text": [
      "🔮 Running prediction...\n"
     ]
    },
    {
     "name": "stderr",
     "output_type": "stream",
     "text": [
      "/tmp/ipykernel_278832/442685796.py:31: SettingWithCopyWarning: \n",
      "A value is trying to be set on a copy of a slice from a DataFrame.\n",
      "Try using .loc[row_indexer,col_indexer] = value instead\n",
      "\n",
      "See the caveats in the documentation: https://pandas.pydata.org/pandas-docs/stable/user_guide/indexing.html#returning-a-view-versus-a-copy\n",
      "  df['body_with_url'] = add_url_semantics_column(df)\n",
      "/tmp/ipykernel_278832/2635419916.py:2: SettingWithCopyWarning: \n",
      "A value is trying to be set on a copy of a slice from a DataFrame.\n",
      "Try using .loc[row_indexer,col_indexer] = value instead\n",
      "\n",
      "See the caveats in the documentation: https://pandas.pydata.org/pandas-docs/stable/user_guide/indexing.html#returning-a-view-versus-a-copy\n",
      "  eval_df['input_text'] = build_input_text(eval_df)\n"
     ]
    },
    {
     "data": {
      "text/html": [],
      "text/plain": [
       "<IPython.core.display.HTML object>"
      ]
     },
     "metadata": {},
     "output_type": "display_data"
    },
    {
     "name": "stderr",
     "output_type": "stream",
     "text": [
      "/tmp/ipykernel_278832/2635419916.py:10: SettingWithCopyWarning: \n",
      "A value is trying to be set on a copy of a slice from a DataFrame.\n",
      "Try using .loc[row_indexer,col_indexer] = value instead\n",
      "\n",
      "See the caveats in the documentation: https://pandas.pydata.org/pandas-docs/stable/user_guide/indexing.html#returning-a-view-versus-a-copy\n",
      "  eval_df['rule_violation_pred'] = probs\n"
     ]
    },
    {
     "data": {
      "text/html": [
       "<div>\n",
       "<style scoped>\n",
       "    .dataframe tbody tr th:only-of-type {\n",
       "        vertical-align: middle;\n",
       "    }\n",
       "\n",
       "    .dataframe tbody tr th {\n",
       "        vertical-align: top;\n",
       "    }\n",
       "\n",
       "    .dataframe thead th {\n",
       "        text-align: right;\n",
       "    }\n",
       "</style>\n",
       "<table border=\"1\" class=\"dataframe\">\n",
       "  <thead>\n",
       "    <tr style=\"text-align: right;\">\n",
       "      <th></th>\n",
       "      <th>row_id</th>\n",
       "      <th>comment</th>\n",
       "      <th>subreddit</th>\n",
       "      <th>rule</th>\n",
       "      <th>rule_violation</th>\n",
       "      <th>fold</th>\n",
       "      <th>body_with_url</th>\n",
       "      <th>input_text</th>\n",
       "      <th>rule_violation_pred</th>\n",
       "    </tr>\n",
       "  </thead>\n",
       "  <tbody>\n",
       "    <tr>\n",
       "      <th>0</th>\n",
       "      <td>978</td>\n",
       "      <td>we do have a shop check it out here https://ww...</td>\n",
       "      <td>pokemon</td>\n",
       "      <td>No Advertising: Spam, referral links, unsolici...</td>\n",
       "      <td>1</td>\n",
       "      <td>0</td>\n",
       "      <td>we do have a shop check it out here https://ww...</td>\n",
       "      <td>No Advertising: Spam, referral links, unsolici...</td>\n",
       "      <td>0.453401</td>\n",
       "    </tr>\n",
       "    <tr>\n",
       "      <th>5</th>\n",
       "      <td>1685</td>\n",
       "      <td>[Sassy t-shirts need constant attention to sur...</td>\n",
       "      <td>pics</td>\n",
       "      <td>No Advertising: Spam, referral links, unsolici...</td>\n",
       "      <td>0</td>\n",
       "      <td>0</td>\n",
       "      <td>[Sassy t-shirts need constant attention to sur...</td>\n",
       "      <td>No Advertising: Spam, referral links, unsolici...</td>\n",
       "      <td>0.418744</td>\n",
       "    </tr>\n",
       "    <tr>\n",
       "      <th>10</th>\n",
       "      <td>525</td>\n",
       "      <td>Phentermine is a prescription only drug prescr...</td>\n",
       "      <td>AskReddit</td>\n",
       "      <td>No Advertising: Spam, referral links, unsolici...</td>\n",
       "      <td>1</td>\n",
       "      <td>0</td>\n",
       "      <td>Phentermine is a prescription only drug prescr...</td>\n",
       "      <td>No Advertising: Spam, referral links, unsolici...</td>\n",
       "      <td>0.479585</td>\n",
       "    </tr>\n",
       "    <tr>\n",
       "      <th>15</th>\n",
       "      <td>99</td>\n",
       "      <td>Remember to use a [recruit a friend link](http...</td>\n",
       "      <td>AskReddit</td>\n",
       "      <td>No Advertising: Spam, referral links, unsolici...</td>\n",
       "      <td>0</td>\n",
       "      <td>0</td>\n",
       "      <td>Remember to use a [recruit a friend link](http...</td>\n",
       "      <td>No Advertising: Spam, referral links, unsolici...</td>\n",
       "      <td>0.462684</td>\n",
       "    </tr>\n",
       "    <tr>\n",
       "      <th>20</th>\n",
       "      <td>256</td>\n",
       "      <td>Check out our YouTube Channel, we’re new to Yo...</td>\n",
       "      <td>OldSchoolCool</td>\n",
       "      <td>No Advertising: Spam, referral links, unsolici...</td>\n",
       "      <td>0</td>\n",
       "      <td>0</td>\n",
       "      <td>Check out our YouTube Channel, we’re new to Yo...</td>\n",
       "      <td>No Advertising: Spam, referral links, unsolici...</td>\n",
       "      <td>0.426527</td>\n",
       "    </tr>\n",
       "  </tbody>\n",
       "</table>\n",
       "</div>"
      ],
      "text/plain": [
       "    row_id                                            comment      subreddit  \\\n",
       "0      978  we do have a shop check it out here https://ww...        pokemon   \n",
       "5     1685  [Sassy t-shirts need constant attention to sur...           pics   \n",
       "10     525  Phentermine is a prescription only drug prescr...      AskReddit   \n",
       "15      99  Remember to use a [recruit a friend link](http...      AskReddit   \n",
       "20     256  Check out our YouTube Channel, we’re new to Yo...  OldSchoolCool   \n",
       "\n",
       "                                                 rule  rule_violation  fold  \\\n",
       "0   No Advertising: Spam, referral links, unsolici...               1     0   \n",
       "5   No Advertising: Spam, referral links, unsolici...               0     0   \n",
       "10  No Advertising: Spam, referral links, unsolici...               1     0   \n",
       "15  No Advertising: Spam, referral links, unsolici...               0     0   \n",
       "20  No Advertising: Spam, referral links, unsolici...               0     0   \n",
       "\n",
       "                                        body_with_url  \\\n",
       "0   we do have a shop check it out here https://ww...   \n",
       "5   [Sassy t-shirts need constant attention to sur...   \n",
       "10  Phentermine is a prescription only drug prescr...   \n",
       "15  Remember to use a [recruit a friend link](http...   \n",
       "20  Check out our YouTube Channel, we’re new to Yo...   \n",
       "\n",
       "                                           input_text  rule_violation_pred  \n",
       "0   No Advertising: Spam, referral links, unsolici...             0.453401  \n",
       "5   No Advertising: Spam, referral links, unsolici...             0.418744  \n",
       "10  No Advertising: Spam, referral links, unsolici...             0.479585  \n",
       "15  No Advertising: Spam, referral links, unsolici...             0.462684  \n",
       "20  No Advertising: Spam, referral links, unsolici...             0.426527  "
      ]
     },
     "execution_count": 14,
     "metadata": {},
     "output_type": "execute_result"
    }
   ],
   "source": [
    "def predict(trainer, tokenizer, seed, eval_df):\n",
    "    eval_df['input_text'] = build_input_text(eval_df)\n",
    "    \n",
    "    test_dataset = prepare_dataset(eval_df, tokenizer, CFG.MAX_LENGTH, is_train=False)\n",
    "\n",
    "    print(\"🔮 Running prediction...\")\n",
    "    predictions = trainer.predict(test_dataset)\n",
    "    probs = torch.nn.functional.softmax(torch.tensor(predictions.predictions), dim=1)[:, 1].numpy()\n",
    "\n",
    "    eval_df['rule_violation_pred'] = probs\n",
    "    return eval_df\n",
    "\n",
    "eval_spam_df = predict(trainer, tokenizer, 42, eval_spam_df)\n",
    "eval_spam_df.head()\n",
    "\n",
    "\n",
    "\n",
    "\n"
   ]
  },
  {
   "cell_type": "code",
   "execution_count": 15,
   "id": "657dd685",
   "metadata": {},
   "outputs": [
    {
     "name": "stdout",
     "output_type": "stream",
     "text": [
      "ROC AUC Score: 0.8129 - Fold 0 - Rule No Advertising: Spam\n"
     ]
    },
    {
     "data": {
      "image/png": "[encoded data removed]",
      "text/plain": [
       "<Figure size 800x600 with 1 Axes>"
      ]
     },
     "metadata": {},
     "output_type": "display_data"
    }
   ],
   "source": [
    "from sklearn.metrics import roc_auc_score, roc_curve\n",
    "import matplotlib.pyplot as plt\n",
    "\n",
    "def plot_roc_curve(eval_df):\n",
    "    roc_auc = roc_auc_score(eval_df['rule_violation'], eval_df['rule_violation_pred'])\n",
    "    print(f\"ROC AUC Score: {roc_auc:.4f} - Fold {eval_df['fold'].iloc[0]} - Rule {eval_df['rule'].iloc[0][:20]}\")\n",
    "\n",
    "    # Compute ROC curve\n",
    "    fpr, tpr, thresholds = roc_curve(eval_df['rule_violation'], eval_df['rule_violation_pred'])\n",
    "\n",
    "    # Plot ROC curve\n",
    "    plt.figure(figsize=(8, 6))\n",
    "    plt.plot(fpr, tpr, color='darkorange', lw=2, label=f'ROC curve (AUC = {roc_auc:.4f})')\n",
    "    plt.plot([0, 1], [0, 1], color='navy', lw=2, linestyle='--', label='Random classifier')\n",
    "    plt.xlim([0.0, 1.0])\n",
    "    plt.ylim([0.0, 1.05])\n",
    "    plt.xlabel('False Positive Rate')\n",
    "    plt.ylabel('True Positive Rate')\n",
    "    plt.title(f\"ROC AUC Score: {roc_auc:.4f} - Fold {eval_df['fold'].iloc[0]} - Rule {eval_df['rule'].iloc[0][:20]}\")\n",
    "    plt.legend(loc=\"lower right\")\n",
    "    plt.grid(alpha=0.3)\n",
    "    plt.show()\n",
    "\n",
    "plot_roc_curve(eval_spam_df)\n"
   ]
  },
  {
   "cell_type": "code",
   "execution_count": null,
   "id": "df909589",
   "metadata": {},
   "outputs": [
    {
     "ename": "NameError",
     "evalue": "name 'model' is not defined",
     "output_type": "error",
     "traceback": [
      "\u001b[31m---------------------------------------------------------------------------\u001b[39m",
      "\u001b[31mNameError\u001b[39m                                 Traceback (most recent call last)",
      "\u001b[36mCell\u001b[39m\u001b[36m \u001b[39m\u001b[32mIn[16]\u001b[39m\u001b[32m, line 1\u001b[39m\n\u001b[32m----> \u001b[39m\u001b[32m1\u001b[39m \u001b[43mmodel\u001b[49m\n",
      "\u001b[31mNameError\u001b[39m: name 'model' is not defined"
     ]
    }
   ],
   "source": []
  },
  {
   "cell_type": "code",
   "execution_count": null,
   "id": "98be5e72",
   "metadata": {},
   "outputs": [
    {
     "data": {
      "text/plain": [
       "DebertaV2ForSequenceClassification(\n",
       "  (deberta): DebertaV2Model(\n",
       "    (embeddings): DebertaV2Embeddings(\n",
       "      (word_embeddings): Embedding(128100, 768, padding_idx=0)\n",
       "      (LayerNorm): LayerNorm((768,), eps=1e-07, elementwise_affine=True)\n",
       "      (dropout): Dropout(p=0.1, inplace=False)\n",
       "    )\n",
       "    (encoder): DebertaV2Encoder(\n",
       "      (layer): ModuleList(\n",
       "        (0-5): 6 x DebertaV2Layer(\n",
       "          (attention): DebertaV2Attention(\n",
       "            (self): DisentangledSelfAttention(\n",
       "              (query_proj): Linear(in_features=768, out_features=768, bias=True)\n",
       "              (key_proj): Linear(in_features=768, out_features=768, bias=True)\n",
       "              (value_proj): Linear(in_features=768, out_features=768, bias=True)\n",
       "              (pos_dropout): Dropout(p=0.1, inplace=False)\n",
       "              (dropout): Dropout(p=0.1, inplace=False)\n",
       "            )\n",
       "            (output): DebertaV2SelfOutput(\n",
       "              (dense): Linear(in_features=768, out_features=768, bias=True)\n",
       "              (LayerNorm): LayerNorm((768,), eps=1e-07, elementwise_affine=True)\n",
       "              (dropout): Dropout(p=0.1, inplace=False)\n",
       "            )\n",
       "          )\n",
       "          (intermediate): DebertaV2Intermediate(\n",
       "            (dense): Linear(in_features=768, out_features=3072, bias=True)\n",
       "            (intermediate_act_fn): GELUActivation()\n",
       "          )\n",
       "          (output): DebertaV2Output(\n",
       "            (dense): Linear(in_features=3072, out_features=768, bias=True)\n",
       "            (LayerNorm): LayerNorm((768,), eps=1e-07, elementwise_affine=True)\n",
       "            (dropout): Dropout(p=0.1, inplace=False)\n",
       "          )\n",
       "        )\n",
       "      )\n",
       "      (rel_embeddings): Embedding(512, 768)\n",
       "      (LayerNorm): LayerNorm((768,), eps=1e-07, elementwise_affine=True)\n",
       "    )\n",
       "  )\n",
       "  (pooler): ContextPooler(\n",
       "    (dense): Linear(in_features=768, out_features=768, bias=True)\n",
       "    (dropout): Dropout(p=0, inplace=False)\n",
       "  )\n",
       "  (classifier): Linear(in_features=768, out_features=2, bias=True)\n",
       "  (dropout): Dropout(p=0.1, inplace=False)\n",
       ")"
      ]
     },
     "execution_count": 17,
     "metadata": {},
     "output_type": "execute_result"
    }
   ],
   "source": [
    "trainer.model"
   ]
  },
  {
   "cell_type": "code",
   "execution_count": null,
   "id": "0dd31da5",
   "metadata": {},
   "outputs": [],
   "source": []
  }
 ],
 "metadata": {
  "kernelspec": {
   "display_name": ".venv",
   "language": "python",
   "name": "python3"
  },
  "language_info": {
   "codemirror_mode": {
    "name": "ipython",
    "version": 3
   },
   "file_extension": ".py",
   "mimetype": "text/x-python",
   "name": "python",
   "nbconvert_exporter": "python",
   "pygments_lexer": "ipython3",
   "version": "3.13.5"
  }
 },
 "nbformat": 4,
 "nbformat_minor": 5
}

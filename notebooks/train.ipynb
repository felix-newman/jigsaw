{
 "cells": [
  {
   "cell_type": "code",
   "execution_count": 1,
   "id": "a918b425",
   "metadata": {},
   "outputs": [],
   "source": [
    "%load_ext autoreload\n",
    "%autoreload 2"
   ]
  },
  {
   "cell_type": "code",
   "execution_count": 2,
   "id": "9b52d85f",
   "metadata": {},
   "outputs": [],
   "source": [
    "from datasets import Dataset\n",
    "\n",
    "from trl import SFTTrainer, SFTConfig\n",
    "from peft import LoraConfig\n",
    "from transformers.utils import is_torch_bf16_gpu_available\n",
    "from transformers import AutoModelForCausalLM\n",
    "\n",
    "from jigsaw.settings import DATA_DIR, MODEL_DIR\n",
    "\n",
    "\n",
    "train_path = DATA_DIR / \"ds_no_examples_train.ds\"\n",
    "eval_path = DATA_DIR / \"ds_no_examples_eval.ds\"\n",
    "\n",
    "train_dataset = Dataset.load_from_disk(str(train_path))\n",
    "eval_dataset = Dataset.load_from_disk(str(eval_path))\n",
    "\n",
    "lora_config = LoraConfig(\n",
    "    r=16,\n",
    "    lora_alpha=32,\n",
    "    lora_dropout=0.1,\n",
    "    bias=\"none\",\n",
    "    target_modules=[\n",
    "        \"q_proj\",\n",
    "        \"k_proj\",\n",
    "        \"v_proj\",\n",
    "        \"o_proj\",\n",
    "        \"gate_proj\",\n",
    "        \"up_proj\",\n",
    "        \"down_proj\",\n",
    "    ],\n",
    "    task_type=\"CAUSAL_LM\",\n",
    ")\n",
    "\n",
    "training_args = SFTConfig(\n",
    "    num_train_epochs=1,\n",
    "    per_device_train_batch_size=8,\n",
    "    gradient_accumulation_steps=2,\n",
    "    optim=\"paged_adamw_8bit\",\n",
    "    learning_rate=1e-4,  # keep high, lora usually likes high.\n",
    "    weight_decay=0.01,\n",
    "    max_grad_norm=1.0,\n",
    "    lr_scheduler_type=\"cosine\",\n",
    "    warmup_ratio=0.03,\n",
    "    bf16=is_torch_bf16_gpu_available(),\n",
    "    fp16=not is_torch_bf16_gpu_available(),\n",
    "    dataloader_pin_memory=True,\n",
    "    gradient_checkpointing=True,\n",
    "    gradient_checkpointing_kwargs={\"use_reentrant\": False},\n",
    "    save_strategy=\"no\",\n",
    "    report_to=\"none\",\n",
    "    packing=False,\n",
    "    remove_unused_columns=False,\n",
    "    completion_only_loss=True,\n",
    ")"
   ]
  },
  {
   "cell_type": "code",
   "execution_count": 3,
   "id": "ff388ef8",
   "metadata": {},
   "outputs": [
    {
     "data": {
      "text/plain": [
       "{'prompt': [{'content': \"You are an unbiased moderator that classifies comments as violating a rule or not. You are moderating for the subreddit <subreddit> r/photoshopbattles </subreddit>. The rule is <rule> No Advertising: Spam, referral links, unsolicited advertising, and promotional content are not allowed. </rule>. Does the given comment violate the rule? Respond with 'yes' or 'no'.Comment: <comment>FindSexToday . com - free girls for sex worldwide 40hygzJvUtS14!</comment>\",\n",
       "   'role': 'user'}],\n",
       " 'completion': [{'content': 'yes', 'role': 'assistant'}]}"
      ]
     },
     "execution_count": 3,
     "metadata": {},
     "output_type": "execute_result"
    }
   ],
   "source": [
    "train_dataset[0]"
   ]
  },
  {
   "cell_type": "code",
   "execution_count": 4,
   "id": "1e248c3d",
   "metadata": {},
   "outputs": [],
   "source": [
    "BASE_MODEL_PATH = \"Qwen/Qwen3-0.6B\"  # Model to fine-tune\n",
    "LORA_PATH = MODEL_DIR / \"lora_checkpoint.pt\"  # Where to save LoRA weights"
   ]
  },
  {
   "cell_type": "code",
   "execution_count": 5,
   "id": "13a3d550",
   "metadata": {},
   "outputs": [],
   "source": [
    "# model = AutoModelForCausalLM.from_pretrained(\n",
    "#     BASE_MODEL_PATH, dtype=\"auto\", device_map=\"auto\"\n",
    "# )\n"
   ]
  },
  {
   "cell_type": "code",
   "execution_count": 6,
   "id": "c908dc08",
   "metadata": {},
   "outputs": [],
   "source": [
    "# trainer = SFTTrainer(\n",
    "#     model=model,\n",
    "#     args=training_args,\n",
    "#     train_dataset=train_dataset,\n",
    "#     peft_config=lora_config,\n",
    "# )\n",
    "\n",
    "# trainer.train()\n",
    "# trainer.save_model(LORA_PATH)"
   ]
  },
  {
   "cell_type": "code",
   "execution_count": 7,
   "id": "cff27d0e",
   "metadata": {},
   "outputs": [
    {
     "name": "stdout",
     "output_type": "stream",
     "text": [
      "INFO 10-17 18:37:28 [__init__.py:235] Automatically detected platform cuda.\n"
     ]
    },
    {
     "name": "stderr",
     "output_type": "stream",
     "text": [
      "`torch_dtype` is deprecated! Use `dtype` instead!\n"
     ]
    },
    {
     "name": "stdout",
     "output_type": "stream",
     "text": [
      "WARNING 10-17 18:37:34 [config.py:3443] Casting torch.bfloat16 to torch.float16.\n",
      "INFO 10-17 18:37:34 [config.py:1604] Using max model len 2836\n",
      "INFO 10-17 18:37:35 [config.py:2434] Chunked prefill is enabled with max_num_batched_tokens=8192.\n",
      "WARNING 10-17 18:37:36 [__init__.py:2899] We must use the `spawn` multiprocessing start method. Overriding VLLM_WORKER_MULTIPROC_METHOD to 'spawn'. See https://docs.vllm.ai/en/latest/usage/troubleshooting.html#python-multiprocessing for more information. Reason: CUDA is initialized\n",
      "INFO 10-17 18:37:39 [__init__.py:235] Automatically detected platform cuda.\n",
      "INFO 10-17 18:37:40 [core.py:572] Waiting for init message from front-end.\n",
      "INFO 10-17 18:37:40 [core.py:71] Initializing a V1 LLM engine (v0.10.0) with config: model='Qwen/Qwen3-0.6B', speculative_config=None, tokenizer='Qwen/Qwen3-0.6B', skip_tokenizer_init=False, tokenizer_mode=auto, revision=None, override_neuron_config={}, tokenizer_revision=None, trust_remote_code=True, dtype=torch.float16, max_seq_len=2836, download_dir=None, load_format=LoadFormat.AUTO, tensor_parallel_size=1, pipeline_parallel_size=1, disable_custom_all_reduce=False, quantization=None, enforce_eager=True, kv_cache_dtype=auto,  device_config=cuda, decoding_config=DecodingConfig(backend='auto', disable_fallback=False, disable_any_whitespace=False, disable_additional_properties=False, reasoning_backend=''), observability_config=ObservabilityConfig(show_hidden_metrics_for_version=None, otlp_traces_endpoint=None, collect_detailed_traces=None), seed=0, served_model_name=Qwen/Qwen3-0.6B, num_scheduler_steps=1, multi_step_stream_outputs=True, enable_prefix_caching=True, chunked_prefill_enabled=True, use_async_output_proc=True, pooler_config=None, compilation_config={\"level\":0,\"debug_dump_path\":\"\",\"cache_dir\":\"\",\"backend\":\"\",\"custom_ops\":[],\"splitting_ops\":[],\"use_inductor\":true,\"compile_sizes\":[],\"inductor_compile_config\":{\"enable_auto_functionalized_v2\":false},\"inductor_passes\":{},\"use_cudagraph\":true,\"cudagraph_num_of_warmups\":0,\"cudagraph_capture_sizes\":[],\"cudagraph_copy_inputs\":false,\"full_cuda_graph\":false,\"max_capture_size\":0,\"local_cache_dir\":null}\n",
      "INFO 10-17 18:37:41 [parallel_state.py:1102] rank 0 in world size 1 is assigned as DP rank 0, PP rank 0, TP rank 0, EP rank 0\n",
      "WARNING 10-17 18:37:41 [topk_topp_sampler.py:59] FlashInfer is not available. Falling back to the PyTorch-native implementation of top-p & top-k sampling. For the best performance, please install FlashInfer.\n",
      "INFO 10-17 18:37:41 [gpu_model_runner.py:1843] Starting to load model Qwen/Qwen3-0.6B...\n",
      "INFO 10-17 18:37:41 [gpu_model_runner.py:1875] Loading model from scratch...\n",
      "INFO 10-17 18:37:41 [cuda.py:290] Using Flash Attention backend on V1 engine.\n",
      "INFO 10-17 18:37:42 [weight_utils.py:296] Using model weights format ['*.safetensors']\n",
      "INFO 10-17 18:37:42 [weight_utils.py:349] No model.safetensors.index.json found in remote.\n"
     ]
    },
    {
     "name": "stderr",
     "output_type": "stream",
     "text": [
      "Loading safetensors checkpoint shards:   0% Completed | 0/1 [00:00<?, ?it/s]\n",
      "Loading safetensors checkpoint shards: 100% Completed | 1/1 [00:00<00:00,  4.00it/s]\n",
      "Loading safetensors checkpoint shards: 100% Completed | 1/1 [00:00<00:00,  4.00it/s]\n",
      "\n"
     ]
    },
    {
     "name": "stdout",
     "output_type": "stream",
     "text": [
      "INFO 10-17 18:37:43 [default_loader.py:262] Loading weights took 0.27 seconds\n",
      "INFO 10-17 18:37:43 [punica_selector.py:19] Using PunicaWrapperGPU.\n",
      "INFO 10-17 18:37:43 [gpu_model_runner.py:1892] Model loading took 1.1957 GiB and 1.186418 seconds\n",
      "INFO 10-17 18:37:45 [gpu_worker.py:255] Available KV cache memory: 2.73 GiB\n",
      "INFO 10-17 18:37:45 [kv_cache_utils.py:833] GPU KV cache size: 25,568 tokens\n",
      "INFO 10-17 18:37:45 [kv_cache_utils.py:837] Maximum concurrency for 2,836 tokens per request: 8.98x\n",
      "INFO 10-17 18:37:45 [core.py:193] init engine (profile, create kv cache, warmup model) took 2.12 seconds\n"
     ]
    }
   ],
   "source": [
    "import vllm\n",
    "from vllm.lora.request import LoRARequest\n",
    "\n",
    "llm = vllm.LLM(\n",
    "    BASE_MODEL_PATH,\n",
    "    quantization=None,  # \"gptq\",\n",
    "    tensor_parallel_size=1,\n",
    "    gpu_memory_utilization=0.7,\n",
    "    trust_remote_code=True,\n",
    "    dtype=\"half\",\n",
    "    enforce_eager=True,\n",
    "    max_model_len=2836,\n",
    "    disable_log_stats=True,\n",
    "    enable_prefix_caching=True,\n",
    "    enable_lora=True,\n",
    "    max_lora_rank=64,\n",
    ")\n",
    "\n",
    "tokenizer = llm.get_tokenizer()\n",
    "# mclp = MultipleChoiceLogitsProcessor(tokenizer, choices=[\"yes\", \"no\"])\n",
    "\n",
    "texts = eval_dataset[\"prompt\"]"
   ]
  },
  {
   "cell_type": "code",
   "execution_count": null,
   "id": "41c06498",
   "metadata": {},
   "outputs": [
    {
     "data": {
      "application/vnd.jupyter.widget-view+json": {
       "model_id": "6ea21aee84c546949b989afcafb9ac10",
       "version_major": 2,
       "version_minor": 0
      },
      "text/plain": [
       "Adding requests:   0%|          | 0/1580 [00:00<?, ?it/s]"
      ]
     },
     "metadata": {},
     "output_type": "display_data"
    },
    {
     "data": {
      "application/vnd.jupyter.widget-view+json": {
       "model_id": "bf5d0651ee9e4ee5bef71af11249b98c",
       "version_major": 2,
       "version_minor": 0
      },
      "text/plain": [
       "Processed prompts:   0%|          | 0/1580 [00:00<?, ?it/s, est. speed input: 0.00 toks/s, output: 0.00 toks/s…"
      ]
     },
     "metadata": {},
     "output_type": "display_data"
    }
   ],
   "source": [
    "tokenizer = llm.get_tokenizer()\n",
    "\n",
    "outputs = llm.generate(\n",
    "    [tokenizer.apply_chat_template(text, tokenize=False) for text in texts],\n",
    "    vllm.SamplingParams(\n",
    "        skip_special_tokens=True,\n",
    "        max_tokens=10,\n",
    "        logprobs=2,\n",
    "    ),\n",
    "    use_tqdm=True,\n",
    "    lora_request=LoRARequest(\"default\", 1, str(LORA_PATH))\n",
    ")\n",
    "\n",
    "log_probs = [\n",
    "    {lp.decoded_token: lp.logprob for lp in out.outputs[0].logprobs[0].values()}\n",
    "    for out in outputs\n",
    "]"
   ]
  },
  {
   "cell_type": "code",
   "execution_count": 32,
   "id": "9f11f303",
   "metadata": {},
   "outputs": [
    {
     "name": "stdout",
     "output_type": "stream",
     "text": [
      "[{'content': \"You are an unbiased moderator that classifies comments as violating a rule or not. You are moderating for the subreddit <subreddit> r/legaladvice </subreddit>. The rule is <rule> No legal advice: Do not offer or request legal advice. </rule>. Does the given comment violate the rule? Respond with 'yes' or 'no'.Comment: <comment>But the money changes hands. If the living person had just given all of that money to his siblings or children, it would have been taxed as a gift/income. How is this different? Money is taxed when it changes hands.</comment>\", 'role': 'user'}]\n",
      "no\n",
      "\n",
      "</think>\n",
      "\n",
      "no\n",
      "\n",
      "[{'content': \"You are an unbiased moderator that classifies comments as violating a rule or not. You are moderating for the subreddit <subreddit> r/aww </subreddit>. The rule is <rule> No Advertising: Spam, referral links, unsolicited advertising, and promotional content are not allowed. </rule>. Does the given comment violate the rule? Respond with 'yes' or 'no'.Comment: <comment>Infographics is an incredible method for showing your businesses focal points. My newly created infographic is for Workers Compensation Lawyer Philadelphia, who are using it to advertise their business highlights in a clear and concise design.visit http://www.workerscompensationlawyer-philadelphia.com/ for more\\n</comment>\", 'role': 'user'}]\n",
      "no\n",
      "\n",
      "\n",
      "</think>\n",
      "\n",
      "no\n",
      "\n",
      "[{'content': \"You are an unbiased moderator that classifies comments as violating a rule or not. You are moderating for the subreddit <subreddit> r/relationships </subreddit>. The rule is <rule> No legal advice: Do not offer or request legal advice. </rule>. Does the given comment violate the rule? Respond with 'yes' or 'no'.Comment: <comment>Possession is 9/10th of the law etc.  Why wasn't the ring included in the division of assets? \\n\\nI understand you're very upset as evidenced by the inclusion of completely irrelevant details but if it's your sister's she's free to sell it for the highest price she can get.  </comment>\", 'role': 'user'}]\n",
      "yes\n",
      "\n",
      "\n",
      "</think>\n",
      "\n",
      "yes\n",
      "\n",
      "[{'content': \"You are an unbiased moderator that classifies comments as violating a rule or not. You are moderating for the subreddit <subreddit> r/personalfinance </subreddit>. The rule is <rule> No legal advice: Do not offer or request legal advice. </rule>. Does the given comment violate the rule? Respond with 'yes' or 'no'.Comment: <comment>Is your car under 17 years of age?  If so it is a federal crime and you can get the FBI involved.  They have a really great forensics lab.</comment>\", 'role': 'user'}]\n",
      "yes\n",
      "\n",
      "\n",
      "</think>\n",
      "\n",
      "yes\n",
      "\n",
      "[{'content': \"You are an unbiased moderator that classifies comments as violating a rule or not. You are moderating for the subreddit <subreddit> r/dataisbeautiful </subreddit>. The rule is <rule> No Advertising: Spam, referral links, unsolicited advertising, and promotional content are not allowed. </rule>. Does the given comment violate the rule? Respond with 'yes' or 'no'.Comment: <comment>* Hey man, I know you said you just wanted Asiimovs ww, but i dont have one xD , so i'm here to ask you if you want to buy an AWP|Boom MW (0.09fv), If yes trade offer me :)\\n* [TRADE URL](https://steamcommunity.com/tradeoffer/new/?partner=117435037&token=d6YEv4kL)\\n* Happy Trades :D</comment>\", 'role': 'user'}]\n",
      "yes\n",
      "\n",
      "\n",
      "</think>\n",
      "\n",
      "yes\n",
      "\n",
      "[{'content': \"You are an unbiased moderator that classifies comments as violating a rule or not. You are moderating for the subreddit <subreddit> r/movies </subreddit>. The rule is <rule> No Advertising: Spam, referral links, unsolicited advertising, and promotional content are not allowed. </rule>. Does the given comment violate the rule? Respond with 'yes' or 'no'.Comment: <comment>Must Watch : https://www.youtube.com/watch?v=dQoedIV8LXo</comment>\", 'role': 'user'}]\n",
      "no\n",
      "\n",
      "\n",
      "</think>\n",
      "\n",
      "no\n",
      "\n",
      "[{'content': \"You are an unbiased moderator that classifies comments as violating a rule or not. You are moderating for the subreddit <subreddit> r/creepyPMs </subreddit>. The rule is <rule> No legal advice: Do not offer or request legal advice. </rule>. Does the given comment violate the rule? Respond with 'yes' or 'no'.Comment: <comment>Yeah but if he's talking to *you* this way there's no saying how he's talking to other girls. Just send these screen caps to the local PD's page.</comment>\", 'role': 'user'}]\n",
      "yes\n",
      "</think>\n",
      "\n",
      "yes\n",
      "\n",
      "[{'content': \"You are an unbiased moderator that classifies comments as violating a rule or not. You are moderating for the subreddit <subreddit> r/personalfinance </subreddit>. The rule is <rule> No legal advice: Do not offer or request legal advice. </rule>. Does the given comment violate the rule? Respond with 'yes' or 'no'.Comment: <comment>If the people giving the money are not foreign nationals, it's legal apparently. Citizens working for foreign outfits can give money. I think we're talking political blowback, not legal blowback here.</comment>\", 'role': 'user'}]\n",
      "yes\n",
      "\n",
      "\n",
      "</think>\n",
      "\n",
      "yes\n",
      "\n",
      "[{'content': \"You are an unbiased moderator that classifies comments as violating a rule or not. You are moderating for the subreddit <subreddit> r/pics </subreddit>. The rule is <rule> No Advertising: Spam, referral links, unsolicited advertising, and promotional content are not allowed. </rule>. Does the given comment violate the rule? Respond with 'yes' or 'no'.Comment: <comment>#HD http://cfbgamesfree.blogspot.com/2016/10/chargers-vs-falcons-live-stream-free.html</comment>\", 'role': 'user'}]\n",
      "no\n",
      "\n",
      "\n",
      "</think>\n",
      "\n",
      "no\n",
      "\n",
      "[{'content': \"You are an unbiased moderator that classifies comments as violating a rule or not. You are moderating for the subreddit <subreddit> r/soccerstreams </subreddit>. The rule is <rule> No Advertising: Spam, referral links, unsolicited advertising, and promotional content are not allowed. </rule>. Does the given comment violate the rule? Respond with 'yes' or 'no'.Comment: <comment>[**SD/AD Free/English/No Lags stream**!](http://www.sportslivestreamonline.com/anthony-joshua-vs-dominic-breazeale-live-stream/)</comment>\", 'role': 'user'}]\n",
      "no\n",
      "\n",
      "\n",
      "</think>\n",
      "\n",
      "no\n",
      "\n"
     ]
    }
   ],
   "source": [
    "for sample, out in zip(eval_dataset, outputs[:10]):\n",
    "    print(sample[\"prompt\"])\n",
    "    print(sample[\"completion\"][0][\"content\"])\n",
    "    print(out.outputs[0].text)\n",
    "    print()\n"
   ]
  },
  {
   "cell_type": "code",
   "execution_count": 42,
   "id": "a069ddfc",
   "metadata": {},
   "outputs": [],
   "source": [
    "answers = []\n",
    "for out in outputs:\n",
    "    sample_lp = {}\n",
    "    for lp in out.outputs[0].logprobs:\n",
    "        if 2152 in lp:\n",
    "            sample_lp['no'] = lp[2152].logprob\n",
    "        if 9693 in lp:\n",
    "            sample_lp['yes'] = lp[9693].logprob\n",
    "    answers.append(sample_lp)\n"
   ]
  },
  {
   "cell_type": "code",
   "execution_count": 23,
   "id": "295f8105",
   "metadata": {},
   "outputs": [
    {
     "name": "stdout",
     "output_type": "stream",
     "text": [
      "Eval dataset columns: ['prompt', 'completion']\n",
      "\n",
      "First eval example:\n",
      "{'prompt': [{'content': \"You are an unbiased moderator that classifies comments as violating a rule or not. You are moderating for the subreddit <subreddit> r/legaladvice </subreddit>. The rule is <rule> No legal advice: Do not offer or request legal advice. </rule>. Does the given comment violate the rule? Respond with 'yes' or 'no'.Comment: <comment>But the money changes hands. If the living person had just given all of that money to his siblings or children, it would have been taxed as a gift/income. How is this different? Money is taxed when it changes hands.</comment>\", 'role': 'user'}], 'completion': [{'content': 'no', 'role': 'assistant'}]}\n"
     ]
    }
   ],
   "source": [
    "# Check eval_dataset structure\n",
    "print(f\"Eval dataset columns: {eval_dataset.column_names}\")\n",
    "print(f\"\\nFirst eval example:\")\n",
    "print(eval_dataset[0])\n"
   ]
  },
  {
   "cell_type": "code",
   "execution_count": 24,
   "id": "260e0b29",
   "metadata": {},
   "outputs": [
    {
     "name": "stdout",
     "output_type": "stream",
     "text": [
      "Extracted 1580 true labels\n",
      "Distribution: 797 positives, 783 negatives\n"
     ]
    }
   ],
   "source": [
    "import numpy as np\n",
    "from sklearn.metrics import accuracy_score, roc_auc_score\n",
    "\n",
    "# Extract true labels from eval_dataset\n",
    "# Assuming completion contains the assistant's response which is \"yes\" or \"no\"\n",
    "true_labels = []\n",
    "for example in eval_dataset:\n",
    "    # Get the assistant message from completion\n",
    "    if isinstance(example['completion'], list):\n",
    "        # If it's a list of messages, find the assistant message\n",
    "        assistant_msg = [msg for msg in example['completion'] if msg.get('role') == 'assistant']\n",
    "        if assistant_msg:\n",
    "            answer = assistant_msg[0]['content'].strip().lower()\n",
    "        else:\n",
    "            answer = example['completion'][0].get('content', '').strip().lower()\n",
    "    else:\n",
    "        answer = str(example['completion']).strip().lower()\n",
    "    \n",
    "    # Convert to binary: 1 for \"yes\" (violation), 0 for \"no\" (no violation)\n",
    "    true_labels.append(1 if answer == 'yes' else 0)\n",
    "\n",
    "true_labels = np.array(true_labels)\n",
    "print(f\"Extracted {len(true_labels)} true labels\")\n",
    "print(f\"Distribution: {np.sum(true_labels)} positives, {len(true_labels) - np.sum(true_labels)} negatives\")\n"
   ]
  },
  {
   "cell_type": "code",
   "execution_count": 43,
   "id": "cd65cc50",
   "metadata": {},
   "outputs": [
    {
     "name": "stdout",
     "output_type": "stream",
     "text": [
      "Extracted log probabilities for 1580 examples\n",
      "Yes logprobs - min: -100.0000, max: -0.0024, mean: -2.5150\n",
      "No logprobs - min: -6.0493, max: -0.0008, mean: -1.9818\n"
     ]
    }
   ],
   "source": [
    "# Extract log probabilities for \"yes\" and \"no\"\n",
    "yes_logprobs = []\n",
    "no_logprobs = []\n",
    "\n",
    "for lp_dict in answers:\n",
    "    # Get log probabilities, default to very negative value if token not in top-k\n",
    "    yes_lp = lp_dict.get('yes', lp_dict.get('Yes', -100.0))\n",
    "    no_lp = lp_dict.get('no', lp_dict.get('No', -100.0))\n",
    "    \n",
    "    yes_logprobs.append(yes_lp)\n",
    "    no_logprobs.append(no_lp)\n",
    "\n",
    "yes_logprobs = np.array(yes_logprobs)\n",
    "no_logprobs = np.array(no_logprobs)\n",
    "\n",
    "print(f\"Extracted log probabilities for {len(yes_logprobs)} examples\")\n",
    "print(f\"Yes logprobs - min: {yes_logprobs.min():.4f}, max: {yes_logprobs.max():.4f}, mean: {yes_logprobs.mean():.4f}\")\n",
    "print(f\"No logprobs - min: {no_logprobs.min():.4f}, max: {no_logprobs.max():.4f}, mean: {no_logprobs.mean():.4f}\")\n"
   ]
  },
  {
   "cell_type": "code",
   "execution_count": 44,
   "id": "012500dc",
   "metadata": {},
   "outputs": [
    {
     "name": "stdout",
     "output_type": "stream",
     "text": [
      "\n",
      "==================================================\n",
      "VALIDATION METRICS\n",
      "==================================================\n",
      "Accuracy: 0.9500 (95.00%)\n",
      "AUC Score: 0.9823\n",
      "==================================================\n"
     ]
    }
   ],
   "source": [
    "# Calculate predictions based on which has higher log probability\n",
    "# Predict \"yes\" (1) if yes_logprob > no_logprob, otherwise \"no\" (0)\n",
    "predictions = (yes_logprobs > no_logprobs).astype(int)\n",
    "\n",
    "# Calculate accuracy\n",
    "accuracy = accuracy_score(true_labels, predictions)\n",
    "\n",
    "# Convert log probabilities to probabilities for AUC calculation\n",
    "# Use softmax to get proper probabilities\n",
    "yes_probs = np.exp(yes_logprobs)\n",
    "no_probs = np.exp(no_logprobs)\n",
    "total_probs = yes_probs + no_probs\n",
    "\n",
    "# Probability of \"yes\" (positive class)\n",
    "prob_yes = yes_probs / total_probs\n",
    "\n",
    "# Calculate AUC\n",
    "auc = roc_auc_score(true_labels, prob_yes)\n",
    "\n",
    "print(f\"\\n{'='*50}\")\n",
    "print(f\"VALIDATION METRICS\")\n",
    "print(f\"{'='*50}\")\n",
    "print(f\"Accuracy: {accuracy:.4f} ({accuracy*100:.2f}%)\")\n",
    "print(f\"AUC Score: {auc:.4f}\")\n",
    "print(f\"{'='*50}\")\n"
   ]
  },
  {
   "cell_type": "code",
   "execution_count": 45,
   "id": "cccc7a75",
   "metadata": {},
   "outputs": [
    {
     "name": "stdout",
     "output_type": "stream",
     "text": [
      "\n",
      "Confusion Matrix:\n",
      "                 Predicted No  Predicted Yes\n",
      "Actual No                 743             40\n",
      "Actual Yes                 39            758\n",
      "\n",
      "==================================================\n",
      "Classification Report:\n",
      "==================================================\n",
      "              precision    recall  f1-score   support\n",
      "\n",
      "No Violation     0.9501    0.9489    0.9495       783\n",
      "   Violation     0.9499    0.9511    0.9505       797\n",
      "\n",
      "    accuracy                         0.9500      1580\n",
      "   macro avg     0.9500    0.9500    0.9500      1580\n",
      "weighted avg     0.9500    0.9500    0.9500      1580\n",
      "\n",
      "\n",
      "==================================================\n",
      "Sample Predictions (first 10):\n",
      "==================================================\n",
      "✓ Example 0: True=No, Pred=No, P(Yes)=0.3702, LogP(Yes)=-0.99, LogP(No)=-0.46\n",
      "✓ Example 1: True=No, Pred=No, P(Yes)=0.2539, LogP(Yes)=-1.37, LogP(No)=-0.29\n",
      "✓ Example 2: True=Yes, Pred=Yes, P(Yes)=0.9815, LogP(Yes)=-0.02, LogP(No)=-3.99\n",
      "✓ Example 3: True=Yes, Pred=Yes, P(Yes)=0.9815, LogP(Yes)=-0.02, LogP(No)=-3.99\n",
      "✓ Example 4: True=Yes, Pred=Yes, P(Yes)=0.9759, LogP(Yes)=-0.02, LogP(No)=-3.73\n",
      "✓ Example 5: True=No, Pred=No, P(Yes)=0.0018, LogP(Yes)=-6.35, LogP(No)=-0.00\n",
      "✓ Example 6: True=Yes, Pred=Yes, P(Yes)=0.9137, LogP(Yes)=-0.09, LogP(No)=-2.45\n",
      "✓ Example 7: True=Yes, Pred=Yes, P(Yes)=0.9627, LogP(Yes)=-0.04, LogP(No)=-3.29\n",
      "✓ Example 8: True=No, Pred=No, P(Yes)=0.0045, LogP(Yes)=-5.41, LogP(No)=-0.00\n",
      "✓ Example 9: True=No, Pred=No, P(Yes)=0.0059, LogP(Yes)=-5.13, LogP(No)=-0.01\n"
     ]
    }
   ],
   "source": [
    "# Detailed breakdown\n",
    "from sklearn.metrics import confusion_matrix, classification_report\n",
    "\n",
    "print(\"\\nConfusion Matrix:\")\n",
    "print(\"                 Predicted No  Predicted Yes\")\n",
    "cm = confusion_matrix(true_labels, predictions)\n",
    "print(f\"Actual No        {cm[0,0]:>12}  {cm[0,1]:>13}\")\n",
    "print(f\"Actual Yes       {cm[1,0]:>12}  {cm[1,1]:>13}\")\n",
    "\n",
    "print(\"\\n\" + \"=\"*50)\n",
    "print(\"Classification Report:\")\n",
    "print(\"=\"*50)\n",
    "print(classification_report(\n",
    "    true_labels, \n",
    "    predictions, \n",
    "    target_names=['No Violation', 'Violation'],\n",
    "    digits=4\n",
    "))\n",
    "\n",
    "# Show some example predictions\n",
    "print(\"\\n\" + \"=\"*50)\n",
    "print(\"Sample Predictions (first 10):\")\n",
    "print(\"=\"*50)\n",
    "for i in range(min(10, len(true_labels))):\n",
    "    true_label_str = \"Yes\" if true_labels[i] == 1 else \"No\"\n",
    "    pred_label_str = \"Yes\" if predictions[i] == 1 else \"No\"\n",
    "    match = \"✓\" if true_labels[i] == predictions[i] else \"✗\"\n",
    "    print(f\"{match} Example {i}: True={true_label_str}, Pred={pred_label_str}, \"\n",
    "          f\"P(Yes)={prob_yes[i]:.4f}, LogP(Yes)={yes_logprobs[i]:.2f}, LogP(No)={no_logprobs[i]:.2f}\")\n"
   ]
  },
  {
   "cell_type": "code",
   "execution_count": 46,
   "id": "d673362a",
   "metadata": {},
   "outputs": [
    {
     "data": {
      "image/png": "[encoded data removed]",
      "text/plain": [
       "<Figure size 1000x600 with 1 Axes>"
      ]
     },
     "metadata": {},
     "output_type": "display_data"
    },
    {
     "data": {
      "image/png": "[encoded data removed]",
      "text/plain": [
       "<Figure size 1400x500 with 2 Axes>"
      ]
     },
     "metadata": {},
     "output_type": "display_data"
    }
   ],
   "source": [
    "# Optional: Plot ROC curve\n",
    "import matplotlib.pyplot as plt\n",
    "from sklearn.metrics import roc_curve\n",
    "\n",
    "fpr, tpr, thresholds = roc_curve(true_labels, prob_yes)\n",
    "\n",
    "plt.figure(figsize=(10, 6))\n",
    "plt.plot(fpr, tpr, linewidth=2, label=f'ROC curve (AUC = {auc:.4f})')\n",
    "plt.plot([0, 1], [0, 1], 'k--', linewidth=1, label='Random classifier')\n",
    "plt.xlim([0.0, 1.0])\n",
    "plt.ylim([0.0, 1.05])\n",
    "plt.xlabel('False Positive Rate', fontsize=12)\n",
    "plt.ylabel('True Positive Rate', fontsize=12)\n",
    "plt.title('ROC Curve - Model Validation', fontsize=14)\n",
    "plt.legend(loc=\"lower right\", fontsize=11)\n",
    "plt.grid(alpha=0.3)\n",
    "plt.tight_layout()\n",
    "plt.show()\n",
    "\n",
    "# Plot distribution of probabilities\n",
    "fig, axes = plt.subplots(1, 2, figsize=(14, 5))\n",
    "\n",
    "axes[0].hist(prob_yes[true_labels == 0], bins=30, alpha=0.7, label='True No Violation', color='blue')\n",
    "axes[0].hist(prob_yes[true_labels == 1], bins=30, alpha=0.7, label='True Violation', color='red')\n",
    "axes[0].set_xlabel('P(Yes - Violation)', fontsize=11)\n",
    "axes[0].set_ylabel('Frequency', fontsize=11)\n",
    "axes[0].set_title('Distribution of Predicted Probabilities', fontsize=12)\n",
    "axes[0].legend()\n",
    "axes[0].grid(alpha=0.3)\n",
    "\n",
    "axes[1].scatter(yes_logprobs, no_logprobs, c=true_labels, cmap='coolwarm', alpha=0.6, s=20)\n",
    "axes[1].plot([-10, 0], [-10, 0], 'k--', linewidth=1, alpha=0.5)\n",
    "axes[1].set_xlabel('Log P(Yes)', fontsize=11)\n",
    "axes[1].set_ylabel('Log P(No)', fontsize=11)\n",
    "axes[1].set_title('Log Probability Space', fontsize=12)\n",
    "axes[1].grid(alpha=0.3)\n",
    "axes[1].set_aspect('equal', adjustable='box')\n",
    "\n",
    "plt.tight_layout()\n",
    "plt.show()\n"
   ]
  },
  {
   "cell_type": "code",
   "execution_count": null,
   "id": "49e9cd65",
   "metadata": {},
   "outputs": [],
   "source": []
  }
 ],
 "metadata": {
  "kernelspec": {
   "display_name": ".venv",
   "language": "python",
   "name": "python3"
  },
  "language_info": {
   "codemirror_mode": {
    "name": "ipython",
    "version": 3
   },
   "file_extension": ".py",
   "mimetype": "text/x-python",
   "name": "python",
   "nbconvert_exporter": "python",
   "pygments_lexer": "ipython3",
   "version": "3.13.5"
  }
 },
 "nbformat": 4,
 "nbformat_minor": 5
}

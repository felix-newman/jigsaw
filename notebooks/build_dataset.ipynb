{
 "cells": [
  {
   "cell_type": "code",
   "execution_count": 16,
   "id": "50013eec",
   "metadata": {},
   "outputs": [
    {
     "name": "stdout",
     "output_type": "stream",
     "text": [
      "The autoreload extension is already loaded. To reload it, use:\n",
      "  %reload_ext autoreload\n"
     ]
    }
   ],
   "source": [
    "%load_ext autoreload\n",
    "%autoreload 2"
   ]
  },
  {
   "cell_type": "code",
   "execution_count": 17,
   "id": "0d9e7000",
   "metadata": {},
   "outputs": [
    {
     "data": {
      "text/html": [
       "<div>\n",
       "<style scoped>\n",
       "    .dataframe tbody tr th:only-of-type {\n",
       "        vertical-align: middle;\n",
       "    }\n",
       "\n",
       "    .dataframe tbody tr th {\n",
       "        vertical-align: top;\n",
       "    }\n",
       "\n",
       "    .dataframe thead th {\n",
       "        text-align: right;\n",
       "    }\n",
       "</style>\n",
       "<table border=\"1\" class=\"dataframe\">\n",
       "  <thead>\n",
       "    <tr style=\"text-align: right;\">\n",
       "      <th></th>\n",
       "      <th>row_id</th>\n",
       "      <th>body</th>\n",
       "      <th>rule</th>\n",
       "      <th>subreddit</th>\n",
       "      <th>positive_example_1</th>\n",
       "      <th>positive_example_2</th>\n",
       "      <th>negative_example_1</th>\n",
       "      <th>negative_example_2</th>\n",
       "      <th>rule_violation</th>\n",
       "    </tr>\n",
       "  </thead>\n",
       "  <tbody>\n",
       "    <tr>\n",
       "      <th>0</th>\n",
       "      <td>0</td>\n",
       "      <td>Banks don't want you to know this! Click here ...</td>\n",
       "      <td>No Advertising: Spam, referral links, unsolici...</td>\n",
       "      <td>Futurology</td>\n",
       "      <td>If you could tell your younger self something ...</td>\n",
       "      <td>hunt for lady for jack off in neighbourhood ht...</td>\n",
       "      <td>Watch Golden Globe Awards 2017 Live Online in ...</td>\n",
       "      <td>DOUBLE CEE x BANDS EPPS - \"BIRDS\"\\n\\nDOWNLOAD/...</td>\n",
       "      <td>0</td>\n",
       "    </tr>\n",
       "    <tr>\n",
       "      <th>1</th>\n",
       "      <td>1</td>\n",
       "      <td>SD Stream [ ENG Link 1] (http://www.sportsstre...</td>\n",
       "      <td>No Advertising: Spam, referral links, unsolici...</td>\n",
       "      <td>soccerstreams</td>\n",
       "      <td>[I wanna kiss you all over! Stunning!](http://...</td>\n",
       "      <td>LOLGA.COM is One of the First Professional Onl...</td>\n",
       "      <td>#Rapper \\n🚨Straight Outta Cross Keys SC 🚨YouTu...</td>\n",
       "      <td>[15 Amazing Hidden Features Of Google Search Y...</td>\n",
       "      <td>0</td>\n",
       "    </tr>\n",
       "    <tr>\n",
       "      <th>2</th>\n",
       "      <td>2</td>\n",
       "      <td>Lol. Try appealing the ban and say you won't d...</td>\n",
       "      <td>No legal advice: Do not offer or request legal...</td>\n",
       "      <td>pcmasterrace</td>\n",
       "      <td>Don't break up with him or call the cops.  If ...</td>\n",
       "      <td>It'll be dismissed: https://en.wikipedia.org/w...</td>\n",
       "      <td>Where is there a site that still works where y...</td>\n",
       "      <td>Because this statement of his is true. It isn'...</td>\n",
       "      <td>1</td>\n",
       "    </tr>\n",
       "    <tr>\n",
       "      <th>3</th>\n",
       "      <td>3</td>\n",
       "      <td>she will come your home open her legs with  an...</td>\n",
       "      <td>No Advertising: Spam, referral links, unsolici...</td>\n",
       "      <td>sex</td>\n",
       "      <td>Selling Tyrande codes for 3€ to paypal. PM. \\n...</td>\n",
       "      <td>tight pussy watch for your cock get her at thi...</td>\n",
       "      <td>NSFW(obviously) http://spankbang.com/iy3u/vide...</td>\n",
       "      <td>Good News ::Download WhatsApp 2.16.230 APK for...</td>\n",
       "      <td>1</td>\n",
       "    </tr>\n",
       "    <tr>\n",
       "      <th>4</th>\n",
       "      <td>4</td>\n",
       "      <td>code free tyrande ---&gt;&gt;&gt; [Imgur](http://i.imgu...</td>\n",
       "      <td>No Advertising: Spam, referral links, unsolici...</td>\n",
       "      <td>hearthstone</td>\n",
       "      <td>wow!! amazing reminds me of the old days.Well...</td>\n",
       "      <td>seek for lady for sex in around http://p77.pl/...</td>\n",
       "      <td>must be watch movie https://sites.google.com/s...</td>\n",
       "      <td>We're streaming Pokemon Veitnamese Crystal RIG...</td>\n",
       "      <td>1</td>\n",
       "    </tr>\n",
       "  </tbody>\n",
       "</table>\n",
       "</div>"
      ],
      "text/plain": [
       "   row_id                                               body  \\\n",
       "0       0  Banks don't want you to know this! Click here ...   \n",
       "1       1  SD Stream [ ENG Link 1] (http://www.sportsstre...   \n",
       "2       2  Lol. Try appealing the ban and say you won't d...   \n",
       "3       3  she will come your home open her legs with  an...   \n",
       "4       4  code free tyrande --->>> [Imgur](http://i.imgu...   \n",
       "\n",
       "                                                rule      subreddit  \\\n",
       "0  No Advertising: Spam, referral links, unsolici...     Futurology   \n",
       "1  No Advertising: Spam, referral links, unsolici...  soccerstreams   \n",
       "2  No legal advice: Do not offer or request legal...   pcmasterrace   \n",
       "3  No Advertising: Spam, referral links, unsolici...            sex   \n",
       "4  No Advertising: Spam, referral links, unsolici...    hearthstone   \n",
       "\n",
       "                                  positive_example_1  \\\n",
       "0  If you could tell your younger self something ...   \n",
       "1  [I wanna kiss you all over! Stunning!](http://...   \n",
       "2  Don't break up with him or call the cops.  If ...   \n",
       "3  Selling Tyrande codes for 3€ to paypal. PM. \\n...   \n",
       "4   wow!! amazing reminds me of the old days.Well...   \n",
       "\n",
       "                                  positive_example_2  \\\n",
       "0  hunt for lady for jack off in neighbourhood ht...   \n",
       "1  LOLGA.COM is One of the First Professional Onl...   \n",
       "2  It'll be dismissed: https://en.wikipedia.org/w...   \n",
       "3  tight pussy watch for your cock get her at thi...   \n",
       "4  seek for lady for sex in around http://p77.pl/...   \n",
       "\n",
       "                                  negative_example_1  \\\n",
       "0  Watch Golden Globe Awards 2017 Live Online in ...   \n",
       "1  #Rapper \\n🚨Straight Outta Cross Keys SC 🚨YouTu...   \n",
       "2  Where is there a site that still works where y...   \n",
       "3  NSFW(obviously) http://spankbang.com/iy3u/vide...   \n",
       "4  must be watch movie https://sites.google.com/s...   \n",
       "\n",
       "                                  negative_example_2  rule_violation  \n",
       "0  DOUBLE CEE x BANDS EPPS - \"BIRDS\"\\n\\nDOWNLOAD/...               0  \n",
       "1  [15 Amazing Hidden Features Of Google Search Y...               0  \n",
       "2  Because this statement of his is true. It isn'...               1  \n",
       "3  Good News ::Download WhatsApp 2.16.230 APK for...               1  \n",
       "4  We're streaming Pokemon Veitnamese Crystal RIG...               1  "
      ]
     },
     "execution_count": 17,
     "metadata": {},
     "output_type": "execute_result"
    }
   ],
   "source": [
    "import pandas as pd\n",
    "import matplotlib.pyplot as plt\n",
    "\n",
    "from jigsaw.settings import TRAIN_CSV\n",
    "\n",
    "df = pd.read_csv(TRAIN_CSV)\n",
    "df.head()"
   ]
  },
  {
   "cell_type": "code",
   "execution_count": 18,
   "id": "9b6abbbb",
   "metadata": {},
   "outputs": [],
   "source": [
    "from transformers import AutoTokenizer\n",
    "from tqdm.notebook import tqdm\n",
    "\n",
    "tokenizer = AutoTokenizer.from_pretrained(\"Qwen/Qwen3-0.6B\")"
   ]
  },
  {
   "cell_type": "code",
   "execution_count": 19,
   "id": "229fa654",
   "metadata": {},
   "outputs": [
    {
     "data": {
      "application/vnd.jupyter.widget-view+json": {
       "model_id": "0c55251b857c43c080b1fc9fd9e7ceb4",
       "version_major": 2,
       "version_minor": 0
      },
      "text/plain": [
       "0it [00:00, ?it/s]"
      ]
     },
     "metadata": {},
     "output_type": "display_data"
    }
   ],
   "source": [
    "def build_samples():\n",
    "    df = pd.read_csv(TRAIN_CSV)\n",
    "    rules = df[\"rule\"].unique()\n",
    "    subreddits = df[\"subreddit\"].unique()\n",
    "\n",
    "    samples = []\n",
    "\n",
    "    for row in tqdm(df.itertuples()):\n",
    "        row_id = row.row_id\n",
    "        rule = row.rule\n",
    "        subreddit = row.subreddit\n",
    "        base_label = int(row.rule_violation)\n",
    "\n",
    "        for comment_type in [\n",
    "            \"body\",\n",
    "            \"positive_example_1\",\n",
    "            \"positive_example_2\",\n",
    "            \"negative_example_1\",\n",
    "            \"negative_example_2\",\n",
    "        ]:\n",
    "            # Correct label assignment by source field\n",
    "            if comment_type.startswith(\"positive\"):\n",
    "                label = 1\n",
    "            elif comment_type.startswith(\"negative\"):\n",
    "                label = 0\n",
    "            else:\n",
    "                label = base_label\n",
    "\n",
    "            samples.append(\n",
    "                {\n",
    "                    \"row_id\": row_id,\n",
    "                    \"comment\": row.__getattribute__(comment_type),\n",
    "                    \"subreddit\": subreddit,\n",
    "                    \"rule\": rule,\n",
    "                    \"rule_violation\": label,\n",
    "                }\n",
    "            )\n",
    "\n",
    "    return samples\n",
    "\n",
    "\n",
    "samples = build_samples()"
   ]
  },
  {
   "cell_type": "code",
   "execution_count": 13,
   "id": "e79cad7d",
   "metadata": {},
   "outputs": [
    {
     "data": {
      "text/plain": [
       "7900"
      ]
     },
     "execution_count": 13,
     "metadata": {},
     "output_type": "execute_result"
    }
   ],
   "source": [
    "unique_samples = []\n",
    "seen_keys = set()\n",
    "for sample in samples:\n",
    "    key = (sample[\"comment\"], sample[\"rule\"], sample[\"subreddit\"])\n",
    "    if key not in seen_keys:\n",
    "        unique_samples.append(sample)\n",
    "        seen_keys.add(key)\n",
    "len(unique_samples)"
   ]
  },
  {
   "cell_type": "code",
   "execution_count": null,
   "id": "156a8059",
   "metadata": {},
   "outputs": [
    {
     "data": {
      "text/html": [
       "<div>\n",
       "<style scoped>\n",
       "    .dataframe tbody tr th:only-of-type {\n",
       "        vertical-align: middle;\n",
       "    }\n",
       "\n",
       "    .dataframe tbody tr th {\n",
       "        vertical-align: top;\n",
       "    }\n",
       "\n",
       "    .dataframe thead th {\n",
       "        text-align: right;\n",
       "    }\n",
       "</style>\n",
       "<table border=\"1\" class=\"dataframe\">\n",
       "  <thead>\n",
       "    <tr style=\"text-align: right;\">\n",
       "      <th></th>\n",
       "      <th>row_id</th>\n",
       "      <th>comment</th>\n",
       "      <th>subreddit</th>\n",
       "      <th>rule</th>\n",
       "      <th>rule_violation</th>\n",
       "    </tr>\n",
       "  </thead>\n",
       "  <tbody>\n",
       "    <tr>\n",
       "      <th>0</th>\n",
       "      <td>0</td>\n",
       "      <td>Banks don't want you to know this! Click here ...</td>\n",
       "      <td>Futurology</td>\n",
       "      <td>No Advertising: Spam, referral links, unsolici...</td>\n",
       "      <td>0</td>\n",
       "    </tr>\n",
       "    <tr>\n",
       "      <th>1</th>\n",
       "      <td>0</td>\n",
       "      <td>If you could tell your younger self something ...</td>\n",
       "      <td>Futurology</td>\n",
       "      <td>No Advertising: Spam, referral links, unsolici...</td>\n",
       "      <td>1</td>\n",
       "    </tr>\n",
       "    <tr>\n",
       "      <th>2</th>\n",
       "      <td>0</td>\n",
       "      <td>hunt for lady for jack off in neighbourhood ht...</td>\n",
       "      <td>Futurology</td>\n",
       "      <td>No Advertising: Spam, referral links, unsolici...</td>\n",
       "      <td>1</td>\n",
       "    </tr>\n",
       "    <tr>\n",
       "      <th>3</th>\n",
       "      <td>0</td>\n",
       "      <td>Watch Golden Globe Awards 2017 Live Online in ...</td>\n",
       "      <td>Futurology</td>\n",
       "      <td>No Advertising: Spam, referral links, unsolici...</td>\n",
       "      <td>0</td>\n",
       "    </tr>\n",
       "    <tr>\n",
       "      <th>4</th>\n",
       "      <td>0</td>\n",
       "      <td>DOUBLE CEE x BANDS EPPS - \"BIRDS\"\\n\\nDOWNLOAD/...</td>\n",
       "      <td>Futurology</td>\n",
       "      <td>No Advertising: Spam, referral links, unsolici...</td>\n",
       "      <td>0</td>\n",
       "    </tr>\n",
       "  </tbody>\n",
       "</table>\n",
       "</div>"
      ],
      "text/plain": [
       "   row_id                                            comment   subreddit  \\\n",
       "0       0  Banks don't want you to know this! Click here ...  Futurology   \n",
       "1       0  If you could tell your younger self something ...  Futurology   \n",
       "2       0  hunt for lady for jack off in neighbourhood ht...  Futurology   \n",
       "3       0  Watch Golden Globe Awards 2017 Live Online in ...  Futurology   \n",
       "4       0  DOUBLE CEE x BANDS EPPS - \"BIRDS\"\\n\\nDOWNLOAD/...  Futurology   \n",
       "\n",
       "                                                rule  rule_violation  \n",
       "0  No Advertising: Spam, referral links, unsolici...               0  \n",
       "1  No Advertising: Spam, referral links, unsolici...               1  \n",
       "2  No Advertising: Spam, referral links, unsolici...               1  \n",
       "3  No Advertising: Spam, referral links, unsolici...               0  \n",
       "4  No Advertising: Spam, referral links, unsolici...               0  "
      ]
     },
     "execution_count": 20,
     "metadata": {},
     "output_type": "execute_result"
    }
   ],
   "source": [
    "new_df = pd.DataFrame(unique_samples)\n",
    "new_df.head()"
   ]
  },
  {
   "cell_type": "code",
   "execution_count": 41,
   "id": "8eb4b91a",
   "metadata": {},
   "outputs": [
    {
     "data": {
      "text/plain": [
       "7900"
      ]
     },
     "execution_count": 41,
     "metadata": {},
     "output_type": "execute_result"
    }
   ],
   "source": [
    "len(new_df)"
   ]
  },
  {
   "cell_type": "code",
   "execution_count": 43,
   "id": "1f25c23e",
   "metadata": {},
   "outputs": [],
   "source": [
    "from sklearn.model_selection import GroupShuffleSplit\n",
    "\n",
    "groups = new_df[\"comment\"] + \"||\" + new_df[\"rule\"]  # composite grouping key\n",
    "splitter = GroupShuffleSplit(test_size=0.2, random_state=42)\n",
    "train_idx, test_idx = next(splitter.split(new_df, groups=groups))\n",
    "\n",
    "train_df, test_df = new_df.iloc[train_idx], new_df.iloc[test_idx]"
   ]
  },
  {
   "cell_type": "code",
   "execution_count": 47,
   "id": "514913f0",
   "metadata": {},
   "outputs": [
    {
     "name": "stdout",
     "output_type": "stream",
     "text": [
      "1500 375\n"
     ]
    }
   ],
   "source": [
    "train_df = train_df.drop_duplicates(subset=[\"comment\", \"rule\"])\n",
    "test_df = test_df.drop_duplicates(subset=[\"comment\", \"rule\"])\n",
    "\n",
    "print(len(train_df), len(test_df))"
   ]
  },
  {
   "cell_type": "code",
   "execution_count": 50,
   "id": "9273747f",
   "metadata": {},
   "outputs": [
    {
     "name": "stdout",
     "output_type": "stream",
     "text": [
      "Dataset size: 1500\n",
      "Features: {'prompt': List({'content': Value('string'), 'role': Value('string')}), 'completion': List({'content': Value('string'), 'role': Value('string')})}\n",
      "\n",
      "First example:\n",
      "{'prompt': [{'content': \"You are an unbiased moderator that classifies comments as violating a rule or not. You are moderating for the subreddit <subreddit> r/Futurology </subreddit>. The rule is <rule> No Advertising: Spam, referral links, unsolicited advertising, and promotional content are not allowed. </rule>. Does the given comment violate the rule? Respond with 'yes' or 'no'.Comment: <comment>Banks don't want you to know this! Click here to know more!</comment>\", 'role': 'user'}], 'completion': [{'content': 'no', 'role': 'assistant'}]}\n"
     ]
    },
    {
     "data": {
      "application/vnd.jupyter.widget-view+json": {
       "model_id": "29758150fe7d415b9ff7df2b10d531ed",
       "version_major": 2,
       "version_minor": 0
      },
      "text/plain": [
       "Saving the dataset (0/1 shards):   0%|          | 0/1500 [00:00<?, ? examples/s]"
      ]
     },
     "metadata": {},
     "output_type": "display_data"
    }
   ],
   "source": [
    "from datasets import Dataset\n",
    "from jigsaw.settings import DATA_DIR\n",
    "\n",
    "\n",
    "def build_dataset(df):\n",
    "    def build_message(sample):\n",
    "        return {\n",
    "            \"prompt\": [\n",
    "                {\n",
    "                    \"role\": \"user\",\n",
    "                    \"content\": (\n",
    "                        \"You are an unbiased moderator that classifies comments as violating a rule or not. \"\n",
    "                        f\"You are moderating for the subreddit <subreddit> r/{sample.subreddit} </subreddit>. \"\n",
    "                        f\"The rule is <rule> {sample.rule} </rule>. \"\n",
    "                        \"Does the given comment violate the rule? Respond with 'yes' or 'no'.\"\n",
    "                        f\"Comment: <comment>{sample.comment}</comment>\"\n",
    "                    ),\n",
    "                }\n",
    "            ],\n",
    "            \"completion\": [\n",
    "                {\n",
    "                    \"role\": \"assistant\",\n",
    "                    \"content\": (\"yes\" if sample.rule_violation == 1 else \"no\"),\n",
    "                }\n",
    "            ],\n",
    "        }\n",
    "\n",
    "    # List of dicts with messages column\n",
    "    dataset_dicts = [build_message(sample) for sample in df.itertuples()]\n",
    "\n",
    "    dataset = Dataset.from_list(dataset_dicts)\n",
    "\n",
    "    return dataset\n",
    "\n",
    "\n",
    "train_dataset = build_dataset(train_df)\n",
    "print(f\"Dataset size: {len(train_dataset)}\")\n",
    "print(f\"Features: {train_dataset.features}\")\n",
    "print(f\"\\nFirst example:\")\n",
    "print(train_dataset[0])\n",
    "\n",
    "train_dataset.save_to_disk(DATA_DIR / \"ds_no_examples_train.ds\")"
   ]
  },
  {
   "cell_type": "code",
   "execution_count": 52,
   "id": "5c943c0e",
   "metadata": {},
   "outputs": [
    {
     "name": "stdout",
     "output_type": "stream",
     "text": [
      "Dataset size: 375\n",
      "Features: {'prompt': List({'content': Value('string'), 'role': Value('string')}), 'completion': List({'content': Value('string'), 'role': Value('string')})}\n",
      "\n",
      "First example:\n",
      "{'prompt': [{'content': 'You are an unbiased moderator that classifies comments as violating a rule or not. You are moderating for the subreddit <subreddit> r/soccerstreams </subreddit>. The rule is <rule> No Advertising: Spam, referral links, unsolicited advertising, and promotional content are not allowed. </rule>. Does the given comment violate the rule? Respond with \\'yes\\' or \\'no\\'.Comment: <comment>#Rapper \\n🚨Straight Outta Cross Keys SC 🚨YouTube Search Beanie 864 Click Link BELOW To Hear Hit Single\\n  \"Ah Man\" \\n Beanie 864 FEAT King Kota \\n (King Kota Is Only 15!) Lit 🌡🔥👍💵💯Fr Fr \\nhttps://youtu.be/tLqbV1Jmt5Y</comment>', 'role': 'user'}], 'completion': [{'content': 'no', 'role': 'assistant'}]}\n"
     ]
    },
    {
     "data": {
      "application/vnd.jupyter.widget-view+json": {
       "model_id": "ed35c32328c34454a922ddc419a45615",
       "version_major": 2,
       "version_minor": 0
      },
      "text/plain": [
       "Saving the dataset (0/1 shards):   0%|          | 0/375 [00:00<?, ? examples/s]"
      ]
     },
     "metadata": {},
     "output_type": "display_data"
    }
   ],
   "source": [
    "test_dataset = build_dataset(test_df)\n",
    "print(f\"Dataset size: {len(test_dataset)}\")\n",
    "print(f\"Features: {test_dataset.features}\")\n",
    "print(f\"\\nFirst example:\")\n",
    "print(test_dataset[0])\n",
    "\n",
    "test_dataset.save_to_disk(DATA_DIR / \"ds_no_examples_eval.ds\")"
   ]
  },
  {
   "cell_type": "code",
   "execution_count": null,
   "id": "8d080a6b",
   "metadata": {},
   "outputs": [],
   "source": []
  },
  {
   "cell_type": "code",
   "execution_count": null,
   "id": "6725e5b0",
   "metadata": {},
   "outputs": [],
   "source": []
  }
 ],
 "metadata": {
  "kernelspec": {
   "display_name": ".venv",
   "language": "python",
   "name": "python3"
  },
  "language_info": {
   "codemirror_mode": {
    "name": "ipython",
    "version": 3
   },
   "file_extension": ".py",
   "mimetype": "text/x-python",
   "name": "python",
   "nbconvert_exporter": "python",
   "pygments_lexer": "ipython3",
   "version": "3.13.5"
  }
 },
 "nbformat": 4,
 "nbformat_minor": 5
}

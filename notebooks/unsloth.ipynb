{
 "cells": [
  {
   "cell_type": "code",
   "execution_count": 1,
   "id": "a918b425",
   "metadata": {},
   "outputs": [],
   "source": [
    "%load_ext autoreload\n",
    "%autoreload 2"
   ]
  },
  {
   "cell_type": "code",
   "execution_count": 2,
   "id": "9b52d85f",
   "metadata": {},
   "outputs": [
    {
     "name": "stderr",
     "output_type": "stream",
     "text": [
      "/home/felix/repos/jigsaw/.venv/lib/python3.13/site-packages/pydantic/_internal/_generate_schema.py:2249: UnsupportedFieldAttributeWarning: The 'repr' attribute with value False was provided to the `Field()` function, which has no effect in the context it was used. 'repr' is field-specific metadata, and can only be attached to a model field using `Annotated` metadata or by assignment. This may have happened because an `Annotated` type alias using the `type` statement was used, or if the `Field()` function was attached to a single member of a union type.\n",
      "  warnings.warn(\n",
      "/home/felix/repos/jigsaw/.venv/lib/python3.13/site-packages/pydantic/_internal/_generate_schema.py:2249: UnsupportedFieldAttributeWarning: The 'frozen' attribute with value True was provided to the `Field()` function, which has no effect in the context it was used. 'frozen' is field-specific metadata, and can only be attached to a model field using `Annotated` metadata or by assignment. This may have happened because an `Annotated` type alias using the `type` statement was used, or if the `Field()` function was attached to a single member of a union type.\n",
      "  warnings.warn(\n"
     ]
    }
   ],
   "source": [
    "from datasets import Dataset\n",
    "\n",
    "from trl import SFTTrainer, SFTConfig\n",
    "from peft import LoraConfig\n",
    "from transformers.utils import is_torch_bf16_gpu_available\n",
    "from transformers import AutoModelForCausalLM\n",
    "\n",
    "from jigsaw.settings import DATA_DIR, MODEL_DIR\n",
    "\n",
    "\n",
    "train_path = DATA_DIR / \"ds_spam_train.ds\"\n",
    "eval_path = DATA_DIR / \"ds_spam_eval.ds\"\n",
    "\n",
    "train_dataset = Dataset.load_from_disk(str(train_path))\n",
    "eval_dataset = Dataset.load_from_disk(str(eval_path))\n"
   ]
  },
  {
   "cell_type": "code",
   "execution_count": 3,
   "id": "efee436b",
   "metadata": {},
   "outputs": [
    {
     "data": {
      "text/plain": [
       "{'prompt': [{'content': \"You are an unbiased moderator that classifies comments as violating a rule or not. You are moderating for the subreddit <subreddit> r/Futurology </subreddit>. The rule is <rule> No Advertising: Spam, referral links, unsolicited advertising, and promotional content are not allowed. </rule>. Does the given comment violate the rule? Respond with 'yes' or 'no'.Comment: <comment>Banks don't want you to know this! Click here to know more!</comment>\",\n",
       "   'role': 'user'}],\n",
       " 'completion': [{'content': 'no', 'role': 'assistant'}]}"
      ]
     },
     "execution_count": 3,
     "metadata": {},
     "output_type": "execute_result"
    }
   ],
   "source": [
    "train_dataset[0]"
   ]
  },
  {
   "cell_type": "code",
   "execution_count": 4,
   "id": "b458f2c8",
   "metadata": {},
   "outputs": [],
   "source": [
    "\n",
    "\n",
    "def formatting(dataset):\n",
    "    texts = []\n",
    "    for i in range(len(dataset)):\n",
    "        t = [dataset[i]['prompt'][0], dataset[i]['completion'][0]]\n",
    "        texts.append(tokenizer.apply_chat_template(t, tokenize=False, add_generation_prompt=False))\n",
    "    return Dataset.from_dict({'text': texts})\n"
   ]
  },
  {
   "cell_type": "code",
   "execution_count": null,
   "id": "28be44c4",
   "metadata": {},
   "outputs": [
    {
     "name": "stderr",
     "output_type": "stream",
     "text": [
      "/tmp/ipykernel_80337/2207906590.py:1: UserWarning: WARNING: Unsloth should be imported before trl, transformers, peft to ensure all optimizations are applied. Your code may run slower or encounter memory issues without these optimizations.\n",
      "\n",
      "Please restructure your imports with 'import unsloth' at the top of your file.\n",
      "  from unsloth import FastLanguageModel\n"
     ]
    },
    {
     "name": "stdout",
     "output_type": "stream",
     "text": [
      "🦥 Unsloth: Will patch your computer to enable 2x faster free finetuning.\n",
      "INFO 10-22 13:44:11 [__init__.py:235] Automatically detected platform cuda.\n",
      "🦥 Unsloth Zoo will now patch everything to make training faster!\n",
      "==((====))==  Unsloth 2025.10.7: Fast Qwen3 patching. Transformers: 4.57.1. vLLM: 0.10.0.\n",
      "   \\\\   /|    NVIDIA GeForce RTX 4060 Laptop GPU. Num GPUs = 1. Max memory: 7.635 GB. Platform: Linux.\n",
      "O^O/ \\_/ \\    Torch: 2.7.1+cu126. CUDA: 8.9. CUDA Toolkit: 12.6. Triton: 3.3.1\n",
      "\\        /    Bfloat16 = TRUE. FA [Xformers = 0.0.31. FA2 = False]\n",
      " \"-____-\"     Free license: http://github.com/unslothai/unsloth\n",
      "Unsloth: Fast downloading is enabled - ignore downloading bars which are red colored!\n"
     ]
    },
    {
     "data": {
      "application/vnd.jupyter.widget-view+json": {
       "model_id": "c8065bcee143446fa0db556fb7529253",
       "version_major": 2,
       "version_minor": 0
      },
      "text/plain": [
       "model.safetensors.index.json: 0.00B [00:00, ?B/s]"
      ]
     },
     "metadata": {},
     "output_type": "display_data"
    },
    {
     "data": {
      "application/vnd.jupyter.widget-view+json": {
       "model_id": "4af4420fb0e3467c805a5a64024327ed",
       "version_major": 2,
       "version_minor": 0
      },
      "text/plain": [
       "Fetching 4 files:   0%|          | 0/4 [00:00<?, ?it/s]"
      ]
     },
     "metadata": {},
     "output_type": "display_data"
    },
    {
     "data": {
      "application/vnd.jupyter.widget-view+json": {
       "model_id": "b2c2f74f826e4c48a994856ba732025f",
       "version_major": 2,
       "version_minor": 0
      },
      "text/plain": [
       "model-00003-of-00004.safetensors:   0%|          | 0.00/4.98G [00:00<?, ?B/s]"
      ]
     },
     "metadata": {},
     "output_type": "display_data"
    },
    {
     "data": {
      "application/vnd.jupyter.widget-view+json": {
       "model_id": "a9c175a0c72e4d2c87c72d596f5864b8",
       "version_major": 2,
       "version_minor": 0
      },
      "text/plain": [
       "model-00002-of-00004.safetensors:   0%|          | 0.00/4.92G [00:00<?, ?B/s]"
      ]
     },
     "metadata": {},
     "output_type": "display_data"
    },
    {
     "data": {
      "application/vnd.jupyter.widget-view+json": {
       "model_id": "dda4447a83664a02a5a7e496066d5b9b",
       "version_major": 2,
       "version_minor": 0
      },
      "text/plain": [
       "model-00004-of-00004.safetensors:   0%|          | 0.00/1.58G [00:00<?, ?B/s]"
      ]
     },
     "metadata": {},
     "output_type": "display_data"
    },
    {
     "data": {
      "application/vnd.jupyter.widget-view+json": {
       "model_id": "87459707043444e999e44dcf706cba7b",
       "version_major": 2,
       "version_minor": 0
      },
      "text/plain": [
       "model-00001-of-00004.safetensors:   0%|          | 0.00/4.90G [00:00<?, ?B/s]"
      ]
     },
     "metadata": {},
     "output_type": "display_data"
    },
    {
     "data": {
      "application/vnd.jupyter.widget-view+json": {
       "model_id": "a89ce63e62384aaeadfda54eab7e56ea",
       "version_major": 2,
       "version_minor": 0
      },
      "text/plain": [
       "Loading checkpoint shards:   0%|          | 0/4 [00:00<?, ?it/s]"
      ]
     },
     "metadata": {},
     "output_type": "display_data"
    },
    {
     "data": {
      "application/vnd.jupyter.widget-view+json": {
       "model_id": "f51612b5f4ce4e55919726db85f1a1aa",
       "version_major": 2,
       "version_minor": 0
      },
      "text/plain": [
       "generation_config.json:   0%|          | 0.00/237 [00:00<?, ?B/s]"
      ]
     },
     "metadata": {},
     "output_type": "display_data"
    },
    {
     "name": "stderr",
     "output_type": "stream",
     "text": [
      "WARNING:accelerate.big_modeling: Some parameters are on the meta device because they were offloaded to the cpu.\n"
     ]
    },
    {
     "data": {
      "application/vnd.jupyter.widget-view+json": {
       "model_id": "d8a661e5ed3f4c4cb3fb4ff9976f928d",
       "version_major": 2,
       "version_minor": 0
      },
      "text/plain": [
       "tokenizer_config.json: 0.00B [00:00, ?B/s]"
      ]
     },
     "metadata": {},
     "output_type": "display_data"
    },
    {
     "data": {
      "application/vnd.jupyter.widget-view+json": {
       "model_id": "420075bf89a94c8d98b8b845ab0cb5f4",
       "version_major": 2,
       "version_minor": 0
      },
      "text/plain": [
       "vocab.json: 0.00B [00:00, ?B/s]"
      ]
     },
     "metadata": {},
     "output_type": "display_data"
    },
    {
     "data": {
      "application/vnd.jupyter.widget-view+json": {
       "model_id": "981ab320397846b9a77f294179af82f3",
       "version_major": 2,
       "version_minor": 0
      },
      "text/plain": [
       "merges.txt: 0.00B [00:00, ?B/s]"
      ]
     },
     "metadata": {},
     "output_type": "display_data"
    },
    {
     "data": {
      "application/vnd.jupyter.widget-view+json": {
       "model_id": "9bd5d08e0afd403a972f2232016d693c",
       "version_major": 2,
       "version_minor": 0
      },
      "text/plain": [
       "added_tokens.json:   0%|          | 0.00/707 [00:00<?, ?B/s]"
      ]
     },
     "metadata": {},
     "output_type": "display_data"
    },
    {
     "data": {
      "application/vnd.jupyter.widget-view+json": {
       "model_id": "42f335d763884c70ac3bf61f65d4df33",
       "version_major": 2,
       "version_minor": 0
      },
      "text/plain": [
       "special_tokens_map.json:   0%|          | 0.00/614 [00:00<?, ?B/s]"
      ]
     },
     "metadata": {},
     "output_type": "display_data"
    },
    {
     "data": {
      "application/vnd.jupyter.widget-view+json": {
       "model_id": "224b0c68a9f84e6db761a919ae5306e0",
       "version_major": 2,
       "version_minor": 0
      },
      "text/plain": [
       "tokenizer.json:   0%|          | 0.00/11.4M [00:00<?, ?B/s]"
      ]
     },
     "metadata": {},
     "output_type": "display_data"
    },
    {
     "data": {
      "application/vnd.jupyter.widget-view+json": {
       "model_id": "2ac73979f1754787b40f71647e118a0e",
       "version_major": 2,
       "version_minor": 0
      },
      "text/plain": [
       "chat_template.jinja: 0.00B [00:00, ?B/s]"
      ]
     },
     "metadata": {},
     "output_type": "display_data"
    }
   ],
   "source": [
    "from unsloth import FastLanguageModel\n",
    "import torch\n",
    "import os\n",
    "from datasets import load_dataset, Dataset\n",
    "from peft import get_peft_model, LoraConfig, prepare_model_for_kbit_training\n",
    "from transformers import AutoModelForCausalLM, AutoTokenizer, BitsAndBytesConfig, LlamaForSequenceClassification\n",
    "from trl import SFTConfig, SFTTrainer\n",
    "import pandas as pd\n",
    "import numpy as np\n",
    "\n",
    "max_seq_length = 2048 \n",
    "dtype = None          \n",
    "load_in_4bit = True   \n",
    "\n",
    "model, tokenizer = FastLanguageModel.from_pretrained(\n",
    "    model_name = \"unsloth/Qwen3-1.7B\",\n",
    "    max_seq_length = max_seq_length,\n",
    "    dtype = dtype,\n",
    "    load_in_4bit = True,\n",
    "    load_in_8bit = False,\n",
    "    # full_finetuning = True,\n",
    "    load_in_16bit = False,\n",
    ")"
   ]
  },
  {
   "cell_type": "code",
   "execution_count": 6,
   "id": "ef3d540d",
   "metadata": {},
   "outputs": [],
   "source": [
    "new_train_dataset = formatting(train_dataset)"
   ]
  },
  {
   "cell_type": "code",
   "execution_count": 7,
   "id": "940fac79",
   "metadata": {},
   "outputs": [
    {
     "data": {
      "text/plain": [
       "{'text': \"<|im_start|>user\\nYou are an unbiased moderator that classifies comments as violating a rule or not. You are moderating for the subreddit <subreddit> r/Futurology </subreddit>. The rule is <rule> No Advertising: Spam, referral links, unsolicited advertising, and promotional content are not allowed. </rule>. Does the given comment violate the rule? Respond with 'yes' or 'no'.Comment: <comment>Banks don't want you to know this! Click here to know more!</comment><|im_end|>\\n<|im_start|>assistant\\n<think>\\n\\n</think>\\n\\nno<|im_end|>\\n\"}"
      ]
     },
     "execution_count": 7,
     "metadata": {},
     "output_type": "execute_result"
    }
   ],
   "source": [
    "new_train_dataset[0]"
   ]
  },
  {
   "cell_type": "code",
   "execution_count": 8,
   "id": "0e90700a",
   "metadata": {},
   "outputs": [
    {
     "name": "stderr",
     "output_type": "stream",
     "text": [
      "Unsloth: Dropout = 0 is supported for fast patching. You are using dropout = 0.1.\n",
      "Unsloth will patch all other layers, except LoRA matrices, causing a performance hit.\n",
      "Unsloth 2025.10.7 patched 36 layers with 0 QKV layers, 0 O layers and 0 MLP layers.\n"
     ]
    },
    {
     "ename": "NotImplementedError",
     "evalue": "Cannot copy out of meta tensor; no data!",
     "output_type": "error",
     "traceback": [
      "\u001b[31m---------------------------------------------------------------------------\u001b[39m",
      "\u001b[31mNotImplementedError\u001b[39m                       Traceback (most recent call last)",
      "\u001b[36mCell\u001b[39m\u001b[36m \u001b[39m\u001b[32mIn[8]\u001b[39m\u001b[32m, line 19\u001b[39m\n\u001b[32m      4\u001b[39m \u001b[38;5;28;01mfrom\u001b[39;00m\u001b[38;5;250m \u001b[39m\u001b[34;01munsloth\u001b[39;00m\u001b[38;5;250m \u001b[39m\u001b[38;5;28;01mimport\u001b[39;00m is_bfloat16_supported\n\u001b[32m      6\u001b[39m peft_model = FastLanguageModel.get_peft_model(\n\u001b[32m      7\u001b[39m     model,\n\u001b[32m      8\u001b[39m     r = \u001b[32m16\u001b[39m, \n\u001b[32m   (...)\u001b[39m\u001b[32m     16\u001b[39m     loftq_config = \u001b[38;5;28;01mNone\u001b[39;00m, \n\u001b[32m     17\u001b[39m )\n\u001b[32m---> \u001b[39m\u001b[32m19\u001b[39m trainer = \u001b[43mSFTTrainer\u001b[49m\u001b[43m(\u001b[49m\n\u001b[32m     20\u001b[39m \u001b[43m    \u001b[49m\u001b[43mmodel\u001b[49m\u001b[43m \u001b[49m\u001b[43m=\u001b[49m\u001b[43m \u001b[49m\u001b[43mpeft_model\u001b[49m\u001b[43m,\u001b[49m\n\u001b[32m     21\u001b[39m \u001b[43m    \u001b[49m\u001b[43mtokenizer\u001b[49m\u001b[43m \u001b[49m\u001b[43m=\u001b[49m\u001b[43m \u001b[49m\u001b[43mtokenizer\u001b[49m\u001b[43m,\u001b[49m\n\u001b[32m     22\u001b[39m \u001b[43m    \u001b[49m\u001b[43mtrain_dataset\u001b[49m\u001b[43m \u001b[49m\u001b[43m=\u001b[49m\u001b[43m \u001b[49m\u001b[43mnew_train_dataset\u001b[49m\u001b[43m,\u001b[49m\n\u001b[32m     23\u001b[39m \u001b[43m    \u001b[49m\u001b[43mdataset_text_field\u001b[49m\u001b[43m \u001b[49m\u001b[43m=\u001b[49m\u001b[43m \u001b[49m\u001b[33;43m\"\u001b[39;49m\u001b[33;43mtext\u001b[39;49m\u001b[33;43m\"\u001b[39;49m\u001b[43m,\u001b[49m\n\u001b[32m     24\u001b[39m \u001b[43m    \u001b[49m\u001b[43mmax_seq_length\u001b[49m\u001b[43m \u001b[49m\u001b[43m=\u001b[49m\u001b[43m \u001b[49m\u001b[43mmax_seq_length\u001b[49m\u001b[43m,\u001b[49m\n\u001b[32m     25\u001b[39m \u001b[43m    \u001b[49m\u001b[43mdata_collator\u001b[49m\u001b[43m \u001b[49m\u001b[43m=\u001b[49m\u001b[43m \u001b[49m\u001b[43mDataCollatorForSeq2Seq\u001b[49m\u001b[43m(\u001b[49m\u001b[43mtokenizer\u001b[49m\u001b[43m \u001b[49m\u001b[43m=\u001b[49m\u001b[43m \u001b[49m\u001b[43mtokenizer\u001b[49m\u001b[43m)\u001b[49m\u001b[43m,\u001b[49m\n\u001b[32m     26\u001b[39m \u001b[43m    \u001b[49m\u001b[43mdataset_num_proc\u001b[49m\u001b[43m \u001b[49m\u001b[43m=\u001b[49m\u001b[43m \u001b[49m\u001b[32;43m4\u001b[39;49m\u001b[43m,\u001b[49m\n\u001b[32m     27\u001b[39m \u001b[43m    \u001b[49m\u001b[43mpacking\u001b[49m\u001b[43m \u001b[49m\u001b[43m=\u001b[49m\u001b[43m \u001b[49m\u001b[38;5;28;43;01mFalse\u001b[39;49;00m\u001b[43m,\u001b[49m\u001b[43m \u001b[49m\n\u001b[32m     28\u001b[39m \u001b[43m    \u001b[49m\u001b[43margs\u001b[49m\u001b[43m \u001b[49m\u001b[43m=\u001b[49m\u001b[43m \u001b[49m\u001b[43mTrainingArguments\u001b[49m\u001b[43m(\u001b[49m\n\u001b[32m     29\u001b[39m \u001b[43m        \u001b[49m\u001b[43mreport_to\u001b[49m\u001b[43m \u001b[49m\u001b[43m=\u001b[49m\u001b[43m \u001b[49m\u001b[33;43m\"\u001b[39;49m\u001b[33;43mnone\u001b[39;49m\u001b[33;43m\"\u001b[39;49m\u001b[43m,\u001b[49m\n\u001b[32m     30\u001b[39m \u001b[43m        \u001b[49m\u001b[43mnum_train_epochs\u001b[49m\u001b[43m \u001b[49m\u001b[43m=\u001b[49m\u001b[43m \u001b[49m\u001b[32;43m3\u001b[39;49m\u001b[43m,\u001b[49m\n\u001b[32m     31\u001b[39m \u001b[43m        \u001b[49m\u001b[43madam_epsilon\u001b[49m\u001b[43m=\u001b[49m\u001b[32;43m1e-6\u001b[39;49m\u001b[43m,\u001b[49m\n\u001b[32m     32\u001b[39m \u001b[43m        \u001b[49m\u001b[43mper_device_train_batch_size\u001b[49m\u001b[43m \u001b[49m\u001b[43m=\u001b[49m\u001b[43m \u001b[49m\u001b[32;43m8\u001b[39;49m\u001b[43m,\u001b[49m\n\u001b[32m     33\u001b[39m \u001b[43m        \u001b[49m\u001b[43mgradient_accumulation_steps\u001b[49m\u001b[43m \u001b[49m\u001b[43m=\u001b[49m\u001b[43m \u001b[49m\u001b[32;43m2\u001b[39;49m\u001b[43m,\u001b[49m\u001b[43m \u001b[49m\n\u001b[32m     34\u001b[39m \u001b[43m        \u001b[49m\u001b[43moptim\u001b[49m\u001b[43m \u001b[49m\u001b[43m=\u001b[49m\u001b[43m \u001b[49m\u001b[33;43m\"\u001b[39;49m\u001b[33;43mpaged_adamw_8bit\u001b[39;49m\u001b[33;43m\"\u001b[39;49m\u001b[43m,\u001b[49m\n\u001b[32m     35\u001b[39m \u001b[43m        \u001b[49m\u001b[43mlearning_rate\u001b[49m\u001b[43m \u001b[49m\u001b[43m=\u001b[49m\u001b[43m \u001b[49m\u001b[32;43m1e-4\u001b[39;49m\u001b[43m,\u001b[49m\n\u001b[32m     36\u001b[39m \u001b[43m        \u001b[49m\u001b[43mweight_decay\u001b[49m\u001b[43m \u001b[49m\u001b[43m=\u001b[49m\u001b[43m \u001b[49m\u001b[32;43m0.01\u001b[39;49m\u001b[43m,\u001b[49m\n\u001b[32m     37\u001b[39m \u001b[43m        \u001b[49m\u001b[43mmax_grad_norm\u001b[49m\u001b[43m=\u001b[49m\u001b[32;43m1.0\u001b[39;49m\u001b[43m,\u001b[49m\n\u001b[32m     38\u001b[39m \u001b[43m        \u001b[49m\u001b[43mlr_scheduler_type\u001b[49m\u001b[43m \u001b[49m\u001b[43m=\u001b[49m\u001b[43m \u001b[49m\u001b[33;43m\"\u001b[39;49m\u001b[33;43mcosine\u001b[39;49m\u001b[33;43m\"\u001b[39;49m\u001b[43m,\u001b[49m\n\u001b[32m     39\u001b[39m \u001b[43m        \u001b[49m\u001b[43mwarmup_steps\u001b[49m\u001b[43m=\u001b[49m\u001b[32;43m40\u001b[39;49m\u001b[43m,\u001b[49m\n\u001b[32m     40\u001b[39m \u001b[43m        \u001b[49m\u001b[43mfp16\u001b[49m\u001b[43m \u001b[49m\u001b[43m=\u001b[49m\u001b[43m \u001b[49m\u001b[38;5;129;43;01mnot\u001b[39;49;00m\u001b[43m \u001b[49m\u001b[43mis_bfloat16_supported\u001b[49m\u001b[43m(\u001b[49m\u001b[43m)\u001b[49m\u001b[43m,\u001b[49m\n\u001b[32m     41\u001b[39m \u001b[43m        \u001b[49m\u001b[43mbf16\u001b[49m\u001b[43m \u001b[49m\u001b[43m=\u001b[49m\u001b[43m \u001b[49m\u001b[43mis_bfloat16_supported\u001b[49m\u001b[43m(\u001b[49m\u001b[43m)\u001b[49m\u001b[43m,\u001b[49m\n\u001b[32m     42\u001b[39m \u001b[43m        \u001b[49m\u001b[43mlogging_steps\u001b[49m\u001b[43m \u001b[49m\u001b[43m=\u001b[49m\u001b[43m \u001b[49m\u001b[32;43m10\u001b[39;49m\u001b[43m,\u001b[49m\n\u001b[32m     43\u001b[39m \u001b[43m        \u001b[49m\u001b[43mdataloader_pin_memory\u001b[49m\u001b[43m=\u001b[49m\u001b[38;5;28;43;01mTrue\u001b[39;49;00m\u001b[43m,\u001b[49m\n\u001b[32m     44\u001b[39m \u001b[43m        \u001b[49m\u001b[43mseed\u001b[49m\u001b[43m \u001b[49m\u001b[43m=\u001b[49m\u001b[43m \u001b[49m\u001b[32;43m3407\u001b[39;49m\u001b[43m,\u001b[49m\n\u001b[32m     45\u001b[39m \u001b[43m        \u001b[49m\u001b[43moutput_dir\u001b[49m\u001b[43m \u001b[49m\u001b[43m=\u001b[49m\u001b[43m \u001b[49m\u001b[33;43m\"\u001b[39;49m\u001b[33;43moutputs\u001b[39;49m\u001b[33;43m\"\u001b[39;49m\u001b[43m,\u001b[49m\n\u001b[32m     46\u001b[39m \u001b[43m        \u001b[49m\u001b[38;5;66;43;03m# max_steps = 10,\u001b[39;49;00m\n\u001b[32m     47\u001b[39m \u001b[43m    \u001b[49m\u001b[43m)\u001b[49m\u001b[43m,\u001b[49m\n\u001b[32m     48\u001b[39m \u001b[43m)\u001b[49m\n\u001b[32m     50\u001b[39m trainer = train_on_responses_only(\n\u001b[32m     51\u001b[39m     trainer,\n\u001b[32m     52\u001b[39m     instruction_part=\u001b[33m\"\u001b[39m\u001b[33m<|im_start|>user\u001b[39m\u001b[38;5;130;01m\\n\u001b[39;00m\u001b[33m\"\u001b[39m,\n\u001b[32m     53\u001b[39m     response_part=\u001b[33m\"\u001b[39m\u001b[33m<|im_start|>assistant\u001b[39m\u001b[38;5;130;01m\\n\u001b[39;00m\u001b[33m\"\u001b[39m,\n\u001b[32m     54\u001b[39m )\n\u001b[32m     56\u001b[39m trainer.train()\n",
      "\u001b[36mFile \u001b[39m\u001b[32m~/repos/jigsaw/.venv/lib/python3.13/site-packages/unsloth/trainer.py:209\u001b[39m, in \u001b[36m_backwards_compatible_trainer.<locals>.new_init\u001b[39m\u001b[34m(self, *args, **kwargs)\u001b[39m\n\u001b[32m    207\u001b[39m     kwargs[\u001b[33m\"\u001b[39m\u001b[33margs\u001b[39m\u001b[33m\"\u001b[39m] = config\n\u001b[32m    208\u001b[39m \u001b[38;5;28;01mpass\u001b[39;00m\n\u001b[32m--> \u001b[39m\u001b[32m209\u001b[39m \u001b[43moriginal_init\u001b[49m\u001b[43m(\u001b[49m\u001b[38;5;28;43mself\u001b[39;49m\u001b[43m,\u001b[49m\u001b[43m \u001b[49m\u001b[43m*\u001b[49m\u001b[43margs\u001b[49m\u001b[43m,\u001b[49m\u001b[43m \u001b[49m\u001b[43m*\u001b[49m\u001b[43m*\u001b[49m\u001b[43mkwargs\u001b[49m\u001b[43m)\u001b[49m\n",
      "\u001b[36mFile \u001b[39m\u001b[32m~/repos/jigsaw/notebooks/unsloth_compiled_cache/UnslothSFTTrainer.py:1381\u001b[39m, in \u001b[36mUnslothSFTTrainer.__init__\u001b[39m\u001b[34m(self, model, args, data_collator, train_dataset, eval_dataset, processing_class, compute_loss_func, compute_metrics, callbacks, optimizer_cls_and_kwargs, preprocess_logits_for_metrics, peft_config, formatting_func, **kwargs)\u001b[39m\n\u001b[32m   1379\u001b[39m \u001b[38;5;28;01mfrom\u001b[39;00m\u001b[38;5;250m \u001b[39m\u001b[34;01munsloth_zoo\u001b[39;00m\u001b[34;01m.\u001b[39;00m\u001b[34;01mtraining_utils\u001b[39;00m\u001b[38;5;250m  \u001b[39m\u001b[38;5;28;01mimport\u001b[39;00m fix_zero_training_loss\n\u001b[32m   1380\u001b[39m \u001b[38;5;28;01mif\u001b[39;00m \u001b[33m'\u001b[39m\u001b[33mtokenizer\u001b[39m\u001b[33m'\u001b[39m \u001b[38;5;129;01mnot\u001b[39;00m \u001b[38;5;129;01min\u001b[39;00m \u001b[38;5;28mlocals\u001b[39m(): tokenizer = processing_class\n\u001b[32m-> \u001b[39m\u001b[32m1381\u001b[39m \u001b[43mfix_untrained_tokens\u001b[49m\u001b[43m(\u001b[49m\u001b[43mmodel\u001b[49m\u001b[43m,\u001b[49m\u001b[43m \u001b[49m\u001b[43mtokenizer\u001b[49m\u001b[43m,\u001b[49m\u001b[43m \u001b[49m\u001b[43mtrain_dataset\u001b[49m\u001b[43m,\u001b[49m\u001b[43m \u001b[49m\u001b[43mIGNORED_TOKENIZER_NAMES\u001b[49m\u001b[43m,\u001b[49m\u001b[43m \u001b[49m\u001b[43meps\u001b[49m\u001b[43m \u001b[49m\u001b[43m=\u001b[49m\u001b[43m \u001b[49m\u001b[32;43m1e-16\u001b[39;49m\u001b[43m)\u001b[49m\n\u001b[32m   1382\u001b[39m fix_zero_training_loss(model, tokenizer, train_dataset)\n\u001b[32m   1384\u001b[39m \u001b[38;5;66;03m# [TODO] Fix up DataParallel multiplying batch sizes\u001b[39;00m\n\u001b[32m   1385\u001b[39m \u001b[38;5;66;03m# [TODO] DDP works, but DP seems to not work? [TODO]\u001b[39;00m\n",
      "\u001b[36mFile \u001b[39m\u001b[32m~/repos/jigsaw/.venv/lib/python3.13/site-packages/torch/utils/_contextlib.py:116\u001b[39m, in \u001b[36mcontext_decorator.<locals>.decorate_context\u001b[39m\u001b[34m(*args, **kwargs)\u001b[39m\n\u001b[32m    113\u001b[39m \u001b[38;5;129m@functools\u001b[39m.wraps(func)\n\u001b[32m    114\u001b[39m \u001b[38;5;28;01mdef\u001b[39;00m\u001b[38;5;250m \u001b[39m\u001b[34mdecorate_context\u001b[39m(*args, **kwargs):\n\u001b[32m    115\u001b[39m     \u001b[38;5;28;01mwith\u001b[39;00m ctx_factory():\n\u001b[32m--> \u001b[39m\u001b[32m116\u001b[39m         \u001b[38;5;28;01mreturn\u001b[39;00m \u001b[43mfunc\u001b[49m\u001b[43m(\u001b[49m\u001b[43m*\u001b[49m\u001b[43margs\u001b[49m\u001b[43m,\u001b[49m\u001b[43m \u001b[49m\u001b[43m*\u001b[49m\u001b[43m*\u001b[49m\u001b[43mkwargs\u001b[49m\u001b[43m)\u001b[49m\n",
      "\u001b[36mFile \u001b[39m\u001b[32m~/repos/jigsaw/.venv/lib/python3.13/site-packages/unsloth_zoo/tokenizer_utils.py:235\u001b[39m, in \u001b[36mfix_untrained_tokens\u001b[39m\u001b[34m(model, tokenizer, train_dataset, IGNORED_TOKENIZER_NAMES, eps)\u001b[39m\n\u001b[32m    233\u001b[39m lm_head_where = torch.where(indicator_untrained1)[\u001b[32m0\u001b[39m]\n\u001b[32m    234\u001b[39m lm_head_bad = lm_head_matrix[lm_head_where.to(lm_head_matrix.device)]\n\u001b[32m--> \u001b[39m\u001b[32m235\u001b[39m lm_head_bad = \u001b[43mlm_head_bad\u001b[49m\u001b[43m.\u001b[49m\u001b[43mcpu\u001b[49m\u001b[43m(\u001b[49m\u001b[43m)\u001b[49m.float().numpy().round(\u001b[32m3\u001b[39m)\n\u001b[32m    236\u001b[39m \u001b[38;5;28;01mfrom\u001b[39;00m\u001b[38;5;250m \u001b[39m\u001b[34;01mcollections\u001b[39;00m\u001b[38;5;250m \u001b[39m\u001b[38;5;28;01mimport\u001b[39;00m Counter\n\u001b[32m    237\u001b[39m counter = Counter()\n",
      "\u001b[31mNotImplementedError\u001b[39m: Cannot copy out of meta tensor; no data!"
     ]
    }
   ],
   "source": [
    "from unsloth.chat_templates import train_on_responses_only\n",
    "from trl import SFTTrainer\n",
    "from transformers import TrainingArguments, DataCollatorForSeq2Seq\n",
    "from unsloth import is_bfloat16_supported\n",
    "\n",
    "peft_model = FastLanguageModel.get_peft_model(\n",
    "    model,\n",
    "    r = 16, \n",
    "    target_modules = [\"q_proj\", \"k_proj\", \"v_proj\", \"o_proj\", \"gate_proj\", \"up_proj\", \"down_proj\",],\n",
    "    lora_alpha = 32,\n",
    "    lora_dropout = 0.1,    \n",
    "    bias = \"none\",\n",
    "    use_gradient_checkpointing = \"unsloth\",\n",
    "    random_state = 3407,\n",
    "    use_rslora = False,  \n",
    "    loftq_config = None, \n",
    ")\n",
    "\n",
    "trainer = SFTTrainer(\n",
    "    model = peft_model,\n",
    "    tokenizer = tokenizer,\n",
    "    train_dataset = new_train_dataset,\n",
    "    dataset_text_field = \"text\",\n",
    "    max_seq_length = max_seq_length,\n",
    "    data_collator = DataCollatorForSeq2Seq(tokenizer = tokenizer),\n",
    "    dataset_num_proc = 4,\n",
    "    packing = False, \n",
    "    args = TrainingArguments(\n",
    "        report_to = \"none\",\n",
    "        num_train_epochs = 3,\n",
    "        adam_epsilon=1e-6,\n",
    "        per_device_train_batch_size = 8,\n",
    "        gradient_accumulation_steps = 2, \n",
    "        optim = \"paged_adamw_8bit\",\n",
    "        learning_rate = 1e-4,\n",
    "        weight_decay = 0.01,\n",
    "        max_grad_norm=1.0,\n",
    "        lr_scheduler_type = \"cosine\",\n",
    "        warmup_steps=40,\n",
    "        fp16 = not is_bfloat16_supported(),\n",
    "        bf16 = is_bfloat16_supported(),\n",
    "        logging_steps = 10,\n",
    "        dataloader_pin_memory=True,\n",
    "        seed = 3407,\n",
    "        output_dir = \"outputs\",\n",
    "        # max_steps = 10,\n",
    "    ),\n",
    ")\n",
    "\n",
    "trainer = train_on_responses_only(\n",
    "    trainer,\n",
    "    instruction_part=\"<|im_start|>user\\n\",\n",
    "    response_part=\"<|im_start|>assistant\\n\",\n",
    ")\n",
    "\n",
    "trainer.train()"
   ]
  },
  {
   "cell_type": "code",
   "execution_count": null,
   "id": "38c45f55",
   "metadata": {},
   "outputs": [],
   "source": [
    "def formatting_eval(dataset):\n",
    "    texts = []\n",
    "    answers = []\n",
    "    for i in range(len(dataset)):\n",
    "        t = [dataset[i]['prompt'][0]]\n",
    "        texts.append(tokenizer.apply_chat_template(t, tokenize=False, add_generation_prompt=True, enable_thinking=False))\n",
    "        answers.append(1 if 'yes' in dataset[i]['completion'][0][\"content\"].lower() else 0)\n",
    "\n",
    "    return {'text': texts, 'answer': answers}\n",
    "\n",
    "new_eval_dataset = formatting_eval(eval_dataset)"
   ]
  },
  {
   "cell_type": "code",
   "execution_count": null,
   "id": "171f4a8c",
   "metadata": {},
   "outputs": [
    {
     "data": {
      "text/plain": [
       "('/home/felix/repos/jigsaw/model/unsloth/Qwen3-0.6B-lora-finetuned-on-spam-yes-no/tokenizer_config.json',\n",
       " '/home/felix/repos/jigsaw/model/unsloth/Qwen3-0.6B-lora-finetuned-on-spam-yes-no/special_tokens_map.json',\n",
       " '/home/felix/repos/jigsaw/model/unsloth/Qwen3-0.6B-lora-finetuned-on-spam-yes-no/chat_template.jinja',\n",
       " '/home/felix/repos/jigsaw/model/unsloth/Qwen3-0.6B-lora-finetuned-on-spam-yes-no/vocab.json',\n",
       " '/home/felix/repos/jigsaw/model/unsloth/Qwen3-0.6B-lora-finetuned-on-spam-yes-no/merges.txt',\n",
       " '/home/felix/repos/jigsaw/model/unsloth/Qwen3-0.6B-lora-finetuned-on-spam-yes-no/added_tokens.json',\n",
       " '/home/felix/repos/jigsaw/model/unsloth/Qwen3-0.6B-lora-finetuned-on-spam-yes-no/tokenizer.json')"
      ]
     },
     "execution_count": 10,
     "metadata": {},
     "output_type": "execute_result"
    }
   ],
   "source": [
    "peft_model.save_pretrained(MODEL_DIR / \"unsloth/Qwen3-0.6B-lora-finetuned-on-spam-yes-no\")\n",
    "tokenizer.save_pretrained(MODEL_DIR / \"unsloth/Qwen3-0.6B-lora-finetuned-on-spam-yes-no\")"
   ]
  },
  {
   "cell_type": "code",
   "execution_count": null,
   "id": "a1390914",
   "metadata": {},
   "outputs": [],
   "source": [
    "peft_model = FastLanguageModel.for_inference(peft_model)"
   ]
  },
  {
   "cell_type": "code",
   "execution_count": null,
   "id": "f939e14b",
   "metadata": {},
   "outputs": [
    {
     "name": "stdout",
     "output_type": "stream",
     "text": [
      "1\n",
      "no\n",
      "tensor([[-inf, 0.]], device='cuda:0')\n"
     ]
    }
   ],
   "source": [
    "from transformers import TextStreamer\n",
    "import torch.nn.functional as F\n",
    "\n",
    "# Get token IDs for \"yes\" and \"no\"\n",
    "yes_token_id = tokenizer.encode(\"yes\", add_special_tokens=False)[0]\n",
    "no_token_id = tokenizer.encode(\"no\", add_special_tokens=False)[0]\n",
    "\n",
    "idx = 0\n",
    "print(new_eval_dataset['answer'][idx])\n",
    "output = peft_model.generate(\n",
    "    **tokenizer([new_eval_dataset['text'][idx]], return_tensors = \"pt\", padding=True).to(\"cuda\"),\n",
    "    max_new_tokens = 1, # Increase for longer outputs!\n",
    "    temperature = 0.6, top_p = 0.95, top_k = 20, # For non thinking\n",
    "    streamer = TextStreamer(tokenizer, skip_prompt = True),\n",
    "    output_scores=True,  # Return scores (logits) for each generation step\n",
    "    return_dict_in_generate=True,  # Return a dict with sequences and scores\n",
    ")\n",
    "\n",
    "# Immediately extract only yes/no logprobs and discard the rest to save memory\n",
    "yes_no_logprobs = []\n",
    "for scores in output.scores:\n",
    "    # scores has shape [batch_size, vocab_size]\n",
    "      # [batch_size, vocab_size]\n",
    "    # Extract only yes and no columns\n",
    "    yes_no = F.log_softmax(scores, dim=-1)\n",
    "    yes_no = yes_no[:, [yes_token_id, no_token_id]]  # [batch_size, 2]\n",
    "    print(yes_no)\n",
    "    yes_no_logprobs.append(yes_no.cpu())  # Move to CPU to free GPU memory\n",
    "\n",
    "# Clear the full scores from memory\n",
    "# del output.scores\n",
    "# import torch\n",
    "# torch.cuda.empty_cache()\n",
    "\n",
    "# Store filtered logprobs back\n",
    "output.yes_no_logprobs = yes_no_logprobs  # List of [batch_size, 2] tensors\n"
   ]
  },
  {
   "cell_type": "code",
   "execution_count": null,
   "id": "2272973c",
   "metadata": {},
   "outputs": [],
   "source": []
  },
  {
   "cell_type": "code",
   "execution_count": null,
   "id": "e4408ba2",
   "metadata": {},
   "outputs": [
    {
     "data": {
      "text/plain": [
       "tensor([[-inf, -inf, -inf,  ..., -inf, -inf, -inf]], device='cuda:0')"
      ]
     },
     "execution_count": 13,
     "metadata": {},
     "output_type": "execute_result"
    }
   ],
   "source": [
    "output.scores[0]"
   ]
  },
  {
   "cell_type": "code",
   "execution_count": null,
   "id": "b05eb4b2",
   "metadata": {},
   "outputs": [],
   "source": [
    "\n",
    "\n",
    "# print(f\"Token IDs - yes: {yes_token_id}, no: {no_token_id}\")\n",
    "\n",
    "# # Now use the filtered logprobs (only yes/no)\n",
    "# for token_idx, yes_no in enumerate(output.yes_no_logprobs):\n",
    "#     # yes_no has shape [batch_size, 2] where column 0 is 'yes', column 1 is 'no'\n",
    "#     yes_logprob = yes_no[0, 0].item()  # First batch item, yes token\n",
    "#     no_logprob = yes_no[0, 1].item()   # First batch item, no token\n",
    "    \n",
    "#     print(f\"\\nToken {token_idx + 1}:\")\n",
    "#     print(f\"  'yes' (id={yes_token_id}, logprob={yes_logprob:.4f})\")\n",
    "#     print(f\"  'no' (id={no_token_id}, logprob={no_logprob:.4f})\")"
   ]
  },
  {
   "cell_type": "code",
   "execution_count": null,
   "id": "33da4248",
   "metadata": {},
   "outputs": [],
   "source": []
  },
  {
   "cell_type": "code",
   "execution_count": null,
   "id": "118476d3",
   "metadata": {},
   "outputs": [],
   "source": [
    "import torch\n",
    "import torch.nn.functional as F\n",
    "import gc\n",
    "from typing import List, Dict\n",
    "from tqdm.auto import tqdm\n",
    "\n",
    "def batch_inference_yes_no(\n",
    "    texts: List[str],\n",
    "    model,\n",
    "    tokenizer,\n",
    "    max_tokens_per_batch: int = 4096,\n",
    "    max_new_tokens: int = 1,\n",
    "    temperature: float = 0.6,\n",
    "    top_p: float = 0.95,\n",
    "    top_k: int = 20,\n",
    "    device: str = \"cuda\"\n",
    "):\n",
    "    \"\"\"\n",
    "    Memory-efficient batched inference that returns yes/no logprobs for each text.\n",
    "    \n",
    "    Args:\n",
    "        texts: List of input texts to process\n",
    "        model: The language model\n",
    "        tokenizer: The tokenizer\n",
    "        max_tokens_per_batch: Maximum total tokens per batch (controls memory usage)\n",
    "        max_new_tokens: Number of tokens to generate per sample\n",
    "        temperature: Sampling temperature\n",
    "        top_p: Nucleus sampling parameter\n",
    "        top_k: Top-k sampling parameter\n",
    "        device: Device to run on\n",
    "        \n",
    "    Returns:\n",
    "        Dictionary mapping sample index to tensor of shape [max_new_tokens, 2]\n",
    "        where [:, 0] is yes logprobs and [:, 1] is no logprobs\n",
    "    \"\"\"\n",
    "    \n",
    "    # Get token IDs for \"yes\" and \"no\"\n",
    "    yes_token_id = tokenizer.encode(\"yes\", add_special_tokens=False)[0]\n",
    "    no_token_id = tokenizer.encode(\"no\", add_special_tokens=False)[0]\n",
    "    \n",
    "    # Store results: index -> tensor of yes/no logprobs\n",
    "    results = {}\n",
    "    \n",
    "    # Tokenize all texts first to get their lengths\n",
    "    print(\"Tokenizing all texts...\")\n",
    "    tokenized_inputs = []\n",
    "    for i, text in enumerate(tqdm(texts)):\n",
    "        tokens = tokenizer(text, return_tensors=\"pt\", add_special_tokens=True)\n",
    "        token_count = tokens['input_ids'].shape[1]\n",
    "        tokenized_inputs.append({\n",
    "            'index': i,\n",
    "            'text': text,\n",
    "            'tokens': tokens,\n",
    "            'token_count': token_count\n",
    "        })\n",
    "    \n",
    "    # Create batches based on token count\n",
    "    print(\"Creating batches...\")\n",
    "    batches = []\n",
    "    current_batch = []\n",
    "    current_token_count = 0\n",
    "    \n",
    "    for item in tokenized_inputs:\n",
    "        item_tokens = item['token_count']\n",
    "        \n",
    "        # If adding this item exceeds limit, start new batch\n",
    "        if current_batch and (current_token_count + item_tokens > max_tokens_per_batch):\n",
    "            batches.append(current_batch)\n",
    "            current_batch = []\n",
    "            current_token_count = 0\n",
    "        \n",
    "        current_batch.append(item)\n",
    "        current_token_count += item_tokens\n",
    "    \n",
    "    # Add remaining batch\n",
    "    if current_batch:\n",
    "        batches.append(current_batch)\n",
    "    \n",
    "    print(f\"Created {len(batches)} batches from {len(texts)} texts\")\n",
    "    \n",
    "    # Process each batch\n",
    "    try:\n",
    "        for batch_idx, batch in enumerate(tqdm(batches, desc=\"Processing batches\")):\n",
    "            # Extract texts and indices for this batch\n",
    "            batch_texts = [item['text'] for item in batch]\n",
    "            batch_indices = [item['index'] for item in batch]\n",
    "            \n",
    "            # Tokenize batch with padding\n",
    "            batch_tokens = tokenizer(\n",
    "                batch_texts,\n",
    "                return_tensors=\"pt\",\n",
    "                padding=True,\n",
    "                add_special_tokens=True,\n",
    "                padding_side=\"left\"\n",
    "            ).to(device)\n",
    "            \n",
    "            # Generate with scores\n",
    "            with torch.no_grad():\n",
    "                output = model.generate(\n",
    "                    **batch_tokens,\n",
    "                    max_new_tokens=max_new_tokens,\n",
    "                    temperature=temperature,\n",
    "                    top_p=top_p,\n",
    "                    top_k=top_k,\n",
    "                    output_scores=True,\n",
    "                    return_dict_in_generate=True,\n",
    "                    pad_token_id=tokenizer.pad_token_id,\n",
    "                )\n",
    "            \n",
    "            # Extract yes/no logprobs for each generated token\n",
    "            batch_yes_no_logprobs = []\n",
    "            for scores in output.scores:\n",
    "                # scores shape: [batch_size, vocab_size]\n",
    "                logprobs = F.log_softmax(scores, dim=-1)\n",
    "                yes_no = logprobs[:, [yes_token_id, no_token_id]]\n",
    "                batch_yes_no_logprobs.append(yes_no.cpu())\n",
    "            \n",
    "            # Stack to get [batch_size, max_new_tokens, 2]\n",
    "            batch_yes_no_logprobs = torch.stack(batch_yes_no_logprobs, dim=1)\n",
    "            \n",
    "            # Store results for each sample in this batch\n",
    "            for i, sample_idx in enumerate(batch_indices):\n",
    "                results[sample_idx] = batch_yes_no_logprobs[i]\n",
    "            \n",
    "            # CRITICAL: Clean up memory after each batch\n",
    "            del output\n",
    "            del batch_tokens\n",
    "            del batch_yes_no_logprobs\n",
    "            if torch.cuda.is_available():\n",
    "                torch.cuda.empty_cache()\n",
    "            gc.collect()\n",
    "            \n",
    "    except Exception as e:\n",
    "        print(f\"Error during batch processing: {e}\")\n",
    "        # Clean up on error\n",
    "        if torch.cuda.is_available():\n",
    "            torch.cuda.empty_cache()\n",
    "        gc.collect()\n",
    "        raise\n",
    "    \n",
    "    # Final cleanup\n",
    "    if torch.cuda.is_available():\n",
    "        torch.cuda.empty_cache()\n",
    "    gc.collect()\n",
    "    \n",
    "    print(f\"Processed {len(results)} samples successfully\")\n",
    "    return results\n"
   ]
  },
  {
   "cell_type": "code",
   "execution_count": null,
   "id": "ef133473",
   "metadata": {},
   "outputs": [
    {
     "name": "stdout",
     "output_type": "stream",
     "text": [
      "Tokenizing all texts...\n"
     ]
    },
    {
     "data": {
      "application/vnd.jupyter.widget-view+json": {
       "model_id": "e8753935fda947488a94e80a83caa06d",
       "version_major": 2,
       "version_minor": 0
      },
      "text/plain": [
       "  0%|          | 0/173 [00:00<?, ?it/s]"
      ]
     },
     "metadata": {},
     "output_type": "display_data"
    },
    {
     "name": "stdout",
     "output_type": "stream",
     "text": [
      "Creating batches...\n",
      "Created 13 batches from 173 texts\n"
     ]
    },
    {
     "data": {
      "application/vnd.jupyter.widget-view+json": {
       "model_id": "f8dceb70f36740aa9bfbfdc1a897691a",
       "version_major": 2,
       "version_minor": 0
      },
      "text/plain": [
       "Processing batches:   0%|          | 0/13 [00:00<?, ?it/s]"
      ]
     },
     "metadata": {},
     "output_type": "display_data"
    },
    {
     "name": "stdout",
     "output_type": "stream",
     "text": [
      "Processed 173 samples successfully\n"
     ]
    }
   ],
   "source": [
    "# Test the inference engine\n",
    "test_texts = new_eval_dataset['text']  # Test with 20 samples\n",
    "\n",
    "results = batch_inference_yes_no(\n",
    "    texts=test_texts,\n",
    "    model=peft_model,\n",
    "    tokenizer=tokenizer,\n",
    "    max_tokens_per_batch=2048,  # Adjust based on your GPU memory\n",
    "    max_new_tokens=1,  # Only generate first token (yes/no)\n",
    "    temperature=0.6,\n",
    "    top_p=0.95,\n",
    "    top_k=20,\n",
    "    device=\"cuda\"\n",
    ")\n"
   ]
  },
  {
   "cell_type": "code",
   "execution_count": null,
   "id": "44b9ec0a",
   "metadata": {},
   "outputs": [
    {
     "name": "stdout",
     "output_type": "stream",
     "text": [
      "Sample 0:\n",
      "  yes: logprob=-inf, prob=0.0000\n",
      "  no:  logprob=0.0000, prob=1.0000\n",
      "\n",
      "Sample 1:\n",
      "  yes: logprob=-0.2519, prob=0.7773\n",
      "  no:  logprob=-1.5019, prob=0.2227\n",
      "\n",
      "Sample 2:\n",
      "  yes: logprob=0.0000, prob=1.0000\n",
      "  no:  logprob=-inf, prob=0.0000\n",
      "\n",
      "Sample 3:\n",
      "  yes: logprob=-0.0963, prob=0.9082\n",
      "  no:  logprob=-2.3880, prob=0.0918\n",
      "\n",
      "Sample 4:\n",
      "  yes: logprob=0.0000, prob=1.0000\n",
      "  no:  logprob=-inf, prob=0.0000\n",
      "\n",
      "Sample 5:\n",
      "  yes: logprob=-0.4287, prob=0.6514\n",
      "  no:  logprob=-1.0537, prob=0.3486\n",
      "\n",
      "Sample 6:\n",
      "  yes: logprob=0.0000, prob=1.0000\n",
      "  no:  logprob=-inf, prob=0.0000\n",
      "\n",
      "Sample 7:\n",
      "  yes: logprob=-inf, prob=0.0000\n",
      "  no:  logprob=0.0000, prob=1.0000\n",
      "\n",
      "Sample 8:\n",
      "  yes: logprob=-0.1730, prob=0.8411\n",
      "  no:  logprob=-1.8397, prob=0.1589\n",
      "\n",
      "Sample 9:\n",
      "  yes: logprob=-inf, prob=0.0000\n",
      "  no:  logprob=0.0000, prob=1.0000\n",
      "\n",
      "Sample 10:\n",
      "  yes: logprob=-0.5944, prob=0.5519\n",
      "  no:  logprob=-0.8027, prob=0.4481\n",
      "\n",
      "Sample 11:\n",
      "  yes: logprob=-0.1427, prob=0.8670\n",
      "  no:  logprob=-2.0177, prob=0.1330\n",
      "\n",
      "Sample 12:\n",
      "  yes: logprob=-inf, prob=0.0000\n",
      "  no:  logprob=0.0000, prob=1.0000\n",
      "\n",
      "Sample 13:\n",
      "  yes: logprob=0.0000, prob=1.0000\n",
      "  no:  logprob=-inf, prob=0.0000\n",
      "\n",
      "Sample 14:\n",
      "  yes: logprob=-inf, prob=0.0000\n",
      "  no:  logprob=0.0000, prob=1.0000\n",
      "\n",
      "Sample 15:\n",
      "  yes: logprob=-inf, prob=0.0000\n",
      "  no:  logprob=0.0000, prob=1.0000\n",
      "\n",
      "Sample 16:\n",
      "  yes: logprob=-1.6675, prob=0.1887\n",
      "  no:  logprob=-0.2091, prob=0.8113\n",
      "\n",
      "Sample 17:\n",
      "  yes: logprob=-0.2091, prob=0.8113\n",
      "  no:  logprob=-1.6675, prob=0.1887\n",
      "\n",
      "Sample 18:\n",
      "  yes: logprob=-2.2007, prob=0.1107\n",
      "  no:  logprob=-0.1174, prob=0.8893\n",
      "\n",
      "Sample 19:\n",
      "  yes: logprob=-inf, prob=0.0000\n",
      "  no:  logprob=0.0000, prob=1.0000\n",
      "\n"
     ]
    }
   ],
   "source": [
    "\n",
    "# Display results\n",
    "for idx in range(min(20, len(results))):\n",
    "    yes_logprob = results[idx][0, 0].item()  # [token_idx, yes/no_idx]\n",
    "    no_logprob = results[idx][0, 1].item()\n",
    "    \n",
    "    # Convert to probabilities for easier interpretation\n",
    "    yes_prob = torch.exp(results[idx][0, 0]).item()\n",
    "    no_prob = torch.exp(results[idx][0, 1]).item()\n",
    "    \n",
    "    print(f\"Sample {idx}:\")\n",
    "    print(f\"  yes: logprob={yes_logprob:.4f}, prob={yes_prob:.4f}\")\n",
    "    print(f\"  no:  logprob={no_logprob:.4f}, prob={no_prob:.4f}\")\n",
    "    print()\n"
   ]
  },
  {
   "cell_type": "code",
   "execution_count": null,
   "id": "8343dce7",
   "metadata": {},
   "outputs": [],
   "source": []
  },
  {
   "cell_type": "code",
   "execution_count": null,
   "id": "745dea81",
   "metadata": {},
   "outputs": [
    {
     "name": "stdout",
     "output_type": "stream",
     "text": [
      "AUC Score: 0.8738\n",
      "\n",
      "Classification Report:\n",
      "              precision    recall  f1-score   support\n",
      "\n",
      "          no       0.84      0.82      0.83        97\n",
      "         yes       0.78      0.80      0.79        76\n",
      "\n",
      "    accuracy                           0.82       173\n",
      "   macro avg       0.81      0.81      0.81       173\n",
      "weighted avg       0.82      0.82      0.82       173\n",
      "\n",
      "\n",
      "Confusion Matrix:\n",
      "[[80 17]\n",
      " [15 61]]\n"
     ]
    },
    {
     "data": {
      "image/png": "[encoded data removed]",
      "text/plain": [
       "<Figure size 800x600 with 1 Axes>"
      ]
     },
     "metadata": {},
     "output_type": "display_data"
    }
   ],
   "source": [
    "# Compute AUC against ground truth\n",
    "from sklearn.metrics import roc_auc_score, roc_curve, classification_report, confusion_matrix\n",
    "import matplotlib.pyplot as plt\n",
    "\n",
    "# Get ground truth labels\n",
    "y_true = new_eval_dataset['answer'][:len(results)]  # Binary labels (0 or 1)\n",
    "\n",
    "# Get predicted probabilities and logprobs for \"yes\" (positive class)\n",
    "y_pred_probs = []\n",
    "yes_logprobs = []\n",
    "no_logprobs = []\n",
    "\n",
    "for idx in sorted(results.keys()):\n",
    "    yes_logprob = results[idx][0, 0].item()\n",
    "    no_logprob = results[idx][0, 1].item()\n",
    "    yes_prob = torch.exp(results[idx][0, 0]).item()\n",
    "    \n",
    "    y_pred_probs.append(yes_prob)\n",
    "    yes_logprobs.append(yes_logprob)\n",
    "    no_logprobs.append(no_logprob)\n",
    "\n",
    "y_pred_probs = np.array(y_pred_probs)\n",
    "yes_logprobs = np.array(yes_logprobs)\n",
    "no_logprobs = np.array(no_logprobs)\n",
    "\n",
    "# Compute AUC\n",
    "auc = roc_auc_score(y_true, y_pred_probs)\n",
    "print(f\"AUC Score: {auc:.4f}\")\n",
    "\n",
    "# Get binary predictions (comparing logprobs is more stable than probability threshold)\n",
    "y_pred_binary = (yes_logprobs > no_logprobs).astype(int)\n",
    "\n",
    "# Print classification metrics\n",
    "print(\"\\nClassification Report:\")\n",
    "print(classification_report(y_true, y_pred_binary, target_names=['no', 'yes']))\n",
    "\n",
    "print(\"\\nConfusion Matrix:\")\n",
    "print(confusion_matrix(y_true, y_pred_binary))\n",
    "\n",
    "# Plot ROC curve\n",
    "fpr, tpr, thresholds = roc_curve(y_true, y_pred_probs)\n",
    "\n",
    "plt.figure(figsize=(8, 6))\n",
    "plt.plot(fpr, tpr, linewidth=2, label=f'ROC Curve (AUC = {auc:.4f})')\n",
    "plt.plot([0, 1], [0, 1], 'k--', linewidth=1, label='Random Classifier')\n",
    "plt.xlabel('False Positive Rate', fontsize=12)\n",
    "plt.ylabel('True Positive Rate', fontsize=12)\n",
    "plt.title('ROC Curve - Yes/No Classification', fontsize=14)\n",
    "plt.legend(fontsize=10)\n",
    "plt.grid(alpha=0.3)\n",
    "plt.tight_layout()\n",
    "plt.show()\n"
   ]
  },
  {
   "cell_type": "code",
   "execution_count": null,
   "id": "620d6efb",
   "metadata": {},
   "outputs": [],
   "source": []
  }
 ],
 "metadata": {
  "kernelspec": {
   "display_name": ".venv",
   "language": "python",
   "name": "python3"
  },
  "language_info": {
   "codemirror_mode": {
    "name": "ipython",
    "version": 3
   },
   "file_extension": ".py",
   "mimetype": "text/x-python",
   "name": "python",
   "nbconvert_exporter": "python",
   "pygments_lexer": "ipython3",
   "version": "3.13.5"
  }
 },
 "nbformat": 4,
 "nbformat_minor": 5
}
